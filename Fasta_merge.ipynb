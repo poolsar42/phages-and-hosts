{
 "cells": [
  {
   "cell_type": "code",
   "execution_count": 50,
   "metadata": {},
   "outputs": [],
   "source": [
    "import pandas as pd\n",
    "import numpy as np\n",
    "import os"
   ]
  },
  {
   "cell_type": "code",
   "execution_count": 51,
   "metadata": {},
   "outputs": [],
   "source": [
    "df = pd.read_csv('/home/emil/Desktop/Science/data/virushostdb/HV_ids.tsv', delimiter = '\\t')\n",
    "phage_list = df.phage_id\n",
    "host_list = df.host_id"
   ]
  },
  {
   "cell_type": "code",
   "execution_count": 52,
   "metadata": {},
   "outputs": [],
   "source": [
    "def merge_files(genome_file, name):\n",
    "    s = ''\n",
    "    with open(genome_file, 'r') as file:\n",
    "        genome_reader = file.read()\n",
    "    s += genome_reader\n",
    "    indices = np.where(host_list == name)[0]\n",
    "    for i in indices:\n",
    "        name_phage = phage_list[i]\n",
    "        if (os.path.exists('/home/emil/Desktop/Science/data/upstream_regions/' + name_phage + '_UPS.fasta')):\n",
    "            with open('/home/emil/Desktop/Science/data/upstream_regions/' + name_phage + '_UPS.fasta', 'r') as file:\n",
    "                upstream_regions = file.read()\n",
    "            s += upstream_regions\n",
    "    return s"
   ]
  },
  {
   "cell_type": "code",
   "execution_count": 53,
   "metadata": {},
   "outputs": [],
   "source": [
    "for root, dirs, files in os.walk('/home/emil/Desktop/Science/data/hosts_genomes'):\n",
    "    for file in files:\n",
    "        path = os.path.join(root, file)\n",
    "        s = path.split('/')\n",
    "        name = s[len(s)-1]\n",
    "        genome = '/home/emil/Desktop/Science/data/hosts_genomes/' + name\n",
    "        merge = '/home/emil/Desktop/Science/data/hosts_genomes_and_upstream_regions/' + name + '_and_phages_UPS.fasta'\n",
    "        with open(merge, 'w') as merge_file:\n",
    "            s = merge_files(genome, name)\n",
    "            merge_file.write(s)"
   ]
  }
 ],
 "metadata": {
  "kernelspec": {
   "display_name": "Python 3",
   "language": "python",
   "name": "python3"
  },
  "language_info": {
   "codemirror_mode": {
    "name": "ipython",
    "version": 3
   },
   "file_extension": ".py",
   "mimetype": "text/x-python",
   "name": "python",
   "nbconvert_exporter": "python",
   "pygments_lexer": "ipython3",
   "version": "3.7.4"
  }
 },
 "nbformat": 4,
 "nbformat_minor": 2
}
