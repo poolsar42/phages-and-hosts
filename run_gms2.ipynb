{
 "cells": [
  {
   "cell_type": "code",
   "execution_count": 3,
   "metadata": {},
   "outputs": [],
   "source": [
    "import subprocess, os, argparse"
   ]
  },
  {
   "cell_type": "code",
   "execution_count": 7,
   "metadata": {},
   "outputs": [],
   "source": [
    "def run_gms2(filename, output_filename):\n",
    "    filename_out = '/home/emil/Desktop/Science/gms2_viruses_output/' + output_filename\n",
    "    gms2_path = '/home/emil/Desktop/Science/gms2_linux_64/gms2.pl'\n",
    "    with open(os.devnull) as out_handle:\n",
    "        system_requiry = ['perl', gms2_path, '--seq', filename, '--genome-type', 'auto', '--output', filename_out + '_gms2.out']\n",
    "        subprocess.call(system_requiry,stdout=out_handle, stderr=out_handle)"
   ]
  },
  {
   "cell_type": "code",
   "execution_count": 8,
   "metadata": {},
   "outputs": [],
   "source": [
    "for root, dirs, files in os.walk('/home/emil/Desktop/Science/viruses_genomes'):\n",
    "    for file in files:\n",
    "        path = os.path.join(root, file)\n",
    "        outname_1 = path.split('/')\n",
    "        outname = outname_1[len(outname_1) - 1]\n",
    "        run_gms2(path, outname)"
   ]
  }
 ],
 "metadata": {
  "kernelspec": {
   "display_name": "Python 3",
   "language": "python",
   "name": "python3"
  },
  "language_info": {
   "codemirror_mode": {
    "name": "ipython",
    "version": 3
   },
   "file_extension": ".py",
   "mimetype": "text/x-python",
   "name": "python",
   "nbconvert_exporter": "python",
   "pygments_lexer": "ipython3",
   "version": "3.7.4"
  }
 },
 "nbformat": 4,
 "nbformat_minor": 2
}
