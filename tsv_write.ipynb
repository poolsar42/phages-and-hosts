{
 "cells": [
  {
   "cell_type": "code",
   "execution_count": 2,
   "metadata": {},
   "outputs": [],
   "source": [
    "import csv, os\n",
    "import numpy as np"
   ]
  },
  {
   "cell_type": "code",
   "execution_count": 3,
   "metadata": {},
   "outputs": [],
   "source": [
    "def tsv_writer(file_gms, file_overlap, outfile, name, writer):\n",
    "    file = open(file_gms, 'r')\n",
    "    file_reader_gms = np.loadtxt(file, dtype ='str', skiprows=11, delimiter='\\t')\n",
    "    file.close()\n",
    "    file = open(file_overlap, 'r')\n",
    "    file_reader_overlap = file.read()\n",
    "    file.close()\n",
    "    lit = []\n",
    "    overlap = file_reader_overlap\n",
    "    overlap = overlap.split('\\n')\n",
    "    if '' in overlap:\n",
    "        while '' in overlap:\n",
    "            overlap.remove('')\n",
    "    for gms2 in file_reader_gms:\n",
    "        gene_number = []\n",
    "        gms2_string = gms2.split(' ')\n",
    "        while ('' in gms2_string):\n",
    "            gms2_string.remove('')\n",
    "        for i in overlap:\n",
    "            if gms2_string[0] in i:\n",
    "                get = i.split(' ')\n",
    "                get[0] = int(get[0])\n",
    "                get[1] = int(get[1])\n",
    "                gms2_strong = int(gms2_string[0])\n",
    "                if gms2_strong == get[0]:\n",
    "                    gene_number.append(name + '--GMS2_' + str(get[1]))\n",
    "        gms2_string[0] = name + '--GMS2_' + gms2_string[0]\n",
    "        if gene_number:\n",
    "            for s in gene_number:\n",
    "                gms2_string.append(s)\n",
    "        writer.writerow(gms2_string)"
   ]
  },
  {
   "cell_type": "code",
   "execution_count": 4,
   "metadata": {},
   "outputs": [],
   "source": [
    "outname = '/home/emil/Desktop/Science/data/Genes_Info.tsv'\n",
    "with open(outname, 'wt') as out_file:\n",
    "    writer = csv.writer(out_file, delimiter = '\\t')\n",
    "    for root, dirs, files in os.walk('/home/emil/Desktop/Science/data/gms2_viruses_output'):\n",
    "        for file in files:\n",
    "            path = os.path.join(root, file)\n",
    "            s = path.split('/')\n",
    "            name = s[len(s)-1].replace('_gms2.out','')\n",
    "            overlap_path = '/home/emil/Desktop/Science/data/overlapping_upstream_regions_and_genes/' + name +'_overlapping.txt'\n",
    "            tsv_writer(path, overlap_path, outname, name, writer)"
   ]
  },
  {
   "cell_type": "code",
   "execution_count": 6,
   "metadata": {},
   "outputs": [
    {
     "name": "stdout",
     "output_type": "stream",
     "text": [
      "AB012574--GMS2_1\t+\t<1\t591\t591\tatypical\n",
      "AB012574--GMS2_2\t+\t595\t948\t354\tnative\t0\t3\n",
      "AB012574--GMS2_3\t+\t960\t1205\t246\tatypical\tGAATTT\t4\t1\tAB012574--GMS2_2\n",
      "AB012574--GMS2_4\t+\t1216\t1449\t234\tatypical\tGGAATC\t4\t1\tAB012574--GMS2_3\n",
      "AB012574--GMS2_5\t+\t1583\t3058\t1476\tnative\t0\t3\n",
      "AB012574--GMS2_6\t+\t3060\t3374\t315\tnative\t0\t3\tAB012574--GMS2_5\n",
      "AB012574--GMS2_7\t+\t3371\t4513\t1143\tnative\t0\t3\n",
      "AB012574--GMS2_8\t-\t4821\t5606\t786\tnative\t0\t3\n",
      "AB012574--GMS2_9\t-\t5696\t6049\t354\tnative\tGAAGTA\t7\t1\n",
      "AB012574--GMS2_10\t-\t6042\t6500\t459\tnative\tGGCTAC\t11\t1\n",
      "AB012574--GMS2_11\t+\t6601\t7212\t612\tnative\tGGTGTC\t3\t1\n",
      "AB012574--GMS2_12\t+\t7209\t7424\t216\tnative\tGGAGGC\t9\t1\n",
      "AB012574--GMS2_13\t+\t7408\t>7965\t558\tatypical\tGGGGTG\t4\t1\n"
     ]
    }
   ],
   "source": [
    "file = open('/home/emil/Desktop/Science/data/Genes_Info.tsv', 'r')\n",
    "reader = file.read()\n",
    "file.close()\n",
    "s = reader.split('\\n')\n",
    "for s1 in s:\n",
    "    if 'AB012574' in s1:\n",
    "        print(s1)"
   ]
  }
 ],
 "metadata": {
  "kernelspec": {
   "display_name": "Python 3",
   "language": "python",
   "name": "python3"
  },
  "language_info": {
   "codemirror_mode": {
    "name": "ipython",
    "version": 3
   },
   "file_extension": ".py",
   "mimetype": "text/x-python",
   "name": "python",
   "nbconvert_exporter": "python",
   "pygments_lexer": "ipython3",
   "version": "3.7.4"
  }
 },
 "nbformat": 4,
 "nbformat_minor": 2
}
