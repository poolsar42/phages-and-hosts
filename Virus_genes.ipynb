{
 "cells": [
  {
   "cell_type": "code",
   "execution_count": 1,
   "metadata": {},
   "outputs": [],
   "source": [
    "import subprocess, os, argparse\n",
    "from Bio.SeqIO.FastaIO import SimpleFastaParser\n",
    "from Bio.Seq import Seq\n",
    "from Bio import Entrez\n",
    "from Bio.Alphabet import generic_dna"
   ]
  },
  {
   "cell_type": "code",
   "execution_count": 2,
   "metadata": {},
   "outputs": [
    {
     "name": "stderr",
     "output_type": "stream",
     "text": [
      "usage: ipykernel_launcher.py [-h] -i INPUT -o OUTPUT [-c CODE]\n",
      "ipykernel_launcher.py: error: the following arguments are required: -i/--input, -o/--output\n"
     ]
    },
    {
     "ename": "SystemExit",
     "evalue": "2",
     "output_type": "error",
     "traceback": [
      "An exception has occurred, use %tb to see the full traceback.\n",
      "\u001b[0;31mSystemExit\u001b[0m\u001b[0;31m:\u001b[0m 2\n"
     ]
    },
    {
     "name": "stderr",
     "output_type": "stream",
     "text": [
      "/home/emil/anaconda3/lib/python3.7/site-packages/IPython/core/interactiveshell.py:3334: UserWarning: To exit: use 'exit', 'quit', or Ctrl-D.\n",
      "  warn(\"To exit: use 'exit', 'quit', or Ctrl-D.\", stacklevel=1)\n"
     ]
    }
   ],
   "source": [
    "import pandas"
   ]
  },
  {
   "cell_type": "code",
   "execution_count": 7,
   "metadata": {},
   "outputs": [],
   "source": [
    "virus_host_info = []\n",
    "host_name = []\n",
    "host_id = []\n",
    "with open(\"virushostdb.tsv\", \"r\") as tsvfile:\n",
    "    tsvreader = tsvfile.read()\n",
    "    tsvreader_lines = tsvreader.split('\\n')\n",
    "    tsvreader_lines.remove('')\n",
    "    for line in tsvreader_lines:\n",
    "        line_split = line.split('\\t')\n",
    "        if 'Bacteria' in line_split[9]:\n",
    "            virus_host_info.append(line_split)\n",
    "            host_name.append(line_split[8])\n",
    "            host_id.append(line_split[7])\n",
    "        if (line_split[9] == 'host lineage'): #This is for storing the header, I guess?\n",
    "            virus_host_info.append(line)"
   ]
  },
  {
   "cell_type": "code",
   "execution_count": 8,
   "metadata": {},
   "outputs": [],
   "source": [
    "#Here I'm downloading information about virus using virus RefSeq ID\n",
    "Entrez.email = \"sharafutdinov.ehn@phystech.com\"\n",
    "search_term = \"Bifidobacterium+bifidum+PRL2010[organism] AND complete+genome[title] AND refseq[filter]\"\n",
    "handle = Entrez.esearch(db=\"nucleotide\", term=search_term)\n",
    "\n",
    "for genome_id in virus_id:\n",
    "    record = Entrez.efetch(db=\"nucleotide\", id=genome_id, rettype=\"gb\", retmode=\"text\")\n",
    "    filename = 'GenBank_Record_{}.gbk'.format(genome_id)\n",
    "#    print('Writing:{}'.format(filename))\n",
    "    with open(genome_id, \"w\") as f: #Saving information about virus\n",
    "        f.write(record.read())"
   ]
  },
  {
   "cell_type": "code",
   "execution_count": 44,
   "metadata": {},
   "outputs": [],
   "source": [
    "#Here I'm parsing GenBank file\n",
    "for genome_id in virus_id:\n",
    "    for seq_record in SeqIO.parse(genome_id, \"genbank\"): #Here I'm getting sequence as fasta file\n",
    "        sequence = '>' + seq_record.id + ' ' + seq_record.description + '\\n' + seq_record.seq \n",
    "        name_file = genome_id +'.fasta'\n",
    "        f = open(name_file, 'w') \n",
    "        sequence = str(sequence) #And saving in fasta file\n",
    "        f.write(sequence)\n",
    "        f.close()"
   ]
  }
 ],
 "metadata": {
  "kernelspec": {
   "display_name": "Python 3",
   "language": "python",
   "name": "python3"
  },
  "language_info": {
   "codemirror_mode": {
    "name": "ipython",
    "version": 3
   },
   "file_extension": ".py",
   "mimetype": "text/x-python",
   "name": "python",
   "nbconvert_exporter": "python",
   "pygments_lexer": "ipython3",
   "version": "3.7.4"
  }
 },
 "nbformat": 4,
 "nbformat_minor": 2
}
