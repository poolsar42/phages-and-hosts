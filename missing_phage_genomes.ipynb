{
 "cells": [
  {
   "cell_type": "code",
   "execution_count": 44,
   "metadata": {},
   "outputs": [],
   "source": [
    "import sys\n",
    "import os, subprocess, shutil"
   ]
  },
  {
   "cell_type": "code",
   "execution_count": 33,
   "metadata": {},
   "outputs": [],
   "source": [
    "phage_names = []\n",
    "phage_names_from_gms2 = []\n",
    "missing_names = []"
   ]
  },
  {
   "cell_type": "code",
   "execution_count": 34,
   "metadata": {},
   "outputs": [],
   "source": [
    "for root, dirs, files in os.walk('/home/emil/Desktop/Science/data/phages_genomes'):\n",
    "    for file in files:\n",
    "        path = os.path.join(root, file)\n",
    "        outname_1 = path.split('/')\n",
    "        outname = outname_1[len(outname_1) - 1]\n",
    "        phage_names.append(outname)"
   ]
  },
  {
   "cell_type": "code",
   "execution_count": 35,
   "metadata": {},
   "outputs": [],
   "source": [
    "for root, dirs, files in os.walk('/home/emil/Desktop/Science/data/gms2_viruses_output'):\n",
    "    for file in files:\n",
    "        path = os.path.join(root, file)\n",
    "        outname_1 = path.split('/')\n",
    "        outname = outname_1[len(outname_1) - 1]\n",
    "        phage_names_from_gms2.append(outname.replace('_gms2.out', ''))"
   ]
  },
  {
   "cell_type": "code",
   "execution_count": 45,
   "metadata": {},
   "outputs": [],
   "source": [
    "for i in phage_names:\n",
    "    if i not in phage_names_from_gms2:\n",
    "        missing_names.append(i)\n",
    "for output_filename in missing_names:\n",
    "    filename = '/home/emil/Desktop/Science/data/phages_genomes/' + output_filename\n",
    "    fileout = '/home/emil/Desktop/Science/data/missing_phage_gms2/' + output_filename\n",
    "    shutil.copy(filename, fileout)"
   ]
  },
  {
   "cell_type": "code",
   "execution_count": 41,
   "metadata": {},
   "outputs": [],
   "source": [
    "len(missing_names)\n",
    "for output_filename in missing_names:\n",
    "    filename = '/home/emil/Desktop/Science/data/phages_genomes/' + output_filename\n",
    "    with open(os.devnull) as out_handle:\n",
    "        filename_out = '/home/emil/Desktop/Science/data/missing_phage_gms2' + output_filename\n",
    "        gms2_path = '/home/emil/Desktop/Science/gms2_linux_64/gms2.pl'\n",
    "        system_requiry = ['perl', gms2_path, '--seq', filename, '--genome-type', 'auto', '--output', filename_out + '_gms2.out']\n",
    "        subprocess.call(system_requiry,stdout=out_handle, stderr=out_handle)"
   ]
  },
  {
   "cell_type": "code",
   "execution_count": null,
   "metadata": {},
   "outputs": [],
   "source": [
    "def run_gene_predict_gms2(filename, output_filename):\n",
    "    filename_out = '/home/emil/Desktop/Science/data/gms2_hosts_output/' + output_filename\n",
    "    gms2_path = '/home/emil/Desktop/Science/gms2_linux_64/gms2.pl'\n",
    "    with open(os.devnull) as out_handle:\n",
    "        system_requiry = ['perl', gms2_path, '--seq', filename, '--genome-type', 'auto', '--output', filename_out + '_gms2.out']\n",
    "        subprocess.call(system_requiry,stdout=out_handle, stderr=out_handle)"
   ]
  }
 ],
 "metadata": {
  "kernelspec": {
   "display_name": "Python 3",
   "language": "python",
   "name": "python3"
  },
  "language_info": {
   "codemirror_mode": {
    "name": "ipython",
    "version": 3
   },
   "file_extension": ".py",
   "mimetype": "text/x-python",
   "name": "python",
   "nbconvert_exporter": "python",
   "pygments_lexer": "ipython3",
   "version": "3.7.4"
  }
 },
 "nbformat": 4,
 "nbformat_minor": 2
}
