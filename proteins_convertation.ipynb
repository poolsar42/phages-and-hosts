{
 "cells": [
  {
   "cell_type": "code",
   "execution_count": 2,
   "metadata": {},
   "outputs": [],
   "source": [
    "import os\n",
    "import numpy as np"
   ]
  },
  {
   "cell_type": "code",
   "execution_count": 16,
   "metadata": {},
   "outputs": [],
   "source": [
    "def run_convertation(path, name, out):\n",
    "    file = open(path, \"r\")\n",
    "    file_reader = file.read()\n",
    "    file.close()\n",
    "    proteins = file_reader.split('>')\n",
    "    if '' in proteins:\n",
    "        while('' in proteins):\n",
    "            proteins.remove('')\n",
    "    output = open(out, 'w')\n",
    "    for g in proteins:\n",
    "        s = ''\n",
    "        gene = g.split('\\n')\n",
    "        if '' in gene:\n",
    "            while('' in gene):\n",
    "                gene.remove('')\n",
    "        sic = gene[0].split(' ')\n",
    "        gene[0] = '>' + name + '--GMS2_' + str(sic[0]) + '--PROT'\n",
    "        for i in gene:\n",
    "            if '>' not in i:\n",
    "                s += str(i) + '\\n'\n",
    "        output.write(str(gene[0]) + '\\n')\n",
    "        output.write(s)\n",
    "    output.close()"
   ]
  },
  {
   "cell_type": "code",
   "execution_count": 17,
   "metadata": {},
   "outputs": [],
   "source": [
    "for root, dirs, files in os.walk('/home/emil/Desktop/Science/data/gms2_proteins_output'):\n",
    "    for file in files:\n",
    "        path = os.path.join(root, file)\n",
    "        outname_1 = path.split('/')\n",
    "        outname = outname_1[len(outname_1) - 1]\n",
    "        name = outname.replace('_proteins.out', '')\n",
    "        outname = '/home/emil/Desktop/Science/data/proteins_output/' + name + '_PROT.fasta'\n",
    "        run_convertation(path, name, outname)"
   ]
  },
  {
   "cell_type": "code",
   "execution_count": 15,
   "metadata": {},
   "outputs": [
    {
     "name": "stdout",
     "output_type": "stream",
     "text": [
      "['', 'AB012574--GMS2_1--PROT\\nVDLAYDDYDGIFDCEYAYKAWRDDCFRTAERGRGPVLHEDMTIASIGKDGKPIYTKEQYS\\nIGSRTSRIYWRIYNKALEQKLANTGLVWYRSEVELKKWNVDVLLNPAGAYAALNDFAASI\\nSTAKKFNTKPVPTKRAALDLLASAHWMRRQYGKILNSLIEFHEGDIETVVGSLVRDGTKF\\nTFPDTYGKLVTHILET\\n', 'AB012574--GMS2_2--PROT\\nMAKSVFVLGMDITWNSARGDSAQLNVSRPLREINSEKFKRRTIGESGDVNPQWDQPLMID\\nHQYALLLERTGALVPRREYQLRLEINPEDPLAGAIVTELIPVDDDIKKHFEASLKAK\\n', 'AB012574--GMS2_3--PROT\\nMPVCALPNADGFLAVVPDIEAASCSGYVMVTAQEYDTLMSYTQLTPGEISQAFGLGFTLV\\nFVGGYLSTYAIKMAIRLIKLL\\n', 'AB012574--GMS2_4--PROT\\nMKRLNALKKFGKQAAATVTVAVLSVPAMAAEGGAADPFSAIDLSGVATKIGAAGLVIVGI\\nTMAYKSITLAKRAVNKA\\n', 'AB012574--GMS2_5--PROT\\nMNHYLRFFIALVILCASSHTYALEARIGYMQMRGCGSQGDWVDPYKVNTCFLDTGYFDSC\\nTFEKTPYSDARYPYQTVCDNGLGLAYYEVRCPENSEFDPSTLRCKSVCEYGKNPDGTCMD\\nACQFKKSIDETKLLQWVAYVYGEQVTGACYGDFGATRCELGRVPSDTTLCTDVESGQWTQ\\nNTLCHGNFQFTGNQCEGGTLFWGKDGPDTPIIPDDPIHDPDDPTGDIEDPSVLPDGSTNT\\nVNPPDTEKKPDVEDPDTDDSTDMAVLNAIKGLNSDVNKALNDMNIDINQASADVQNQIIA\\nLNASMVTNTQAIQKQQINDNKIYENTKALIQQANADITTAVNKNTNAINGVGDDVEKIAG\\nAMDGIAEDVSGISDTLDGIANTDTSGAGTGGTCIESQTCTGFYESAYPDGLGGLVSGQLD\\nSLKHNTIDNFVSSFGDLDLSSAKRPSFVLPVPFFGDFSFEEQISFDWVFGFIRAVLIMTS\\nVFAARRIIFGG\\n', 'AB012574--GMS2_6--PROT\\nMEWLVDLFNKLLVFLYQLLISLVNMLKDLFFWAVEQIMAMVNLLLSGVFSLFAPVDMSQY\\nMTSIPPTVAWVMAAVGVPQCLSIILAAITVRLMLQLIPFTRLGS\\n', 'AB012574--GMS2_7--PROT\\nMIYAIAGRPGGGKTYEAVAYHIIPAIKDGRKVITNITLNIDWFVKVFGEDVRELIKIVDG\\nRLTDFGSTTRPFSQIEDYSDEWRNEKGQGPLYVVDEAHMSLPSRGLAAPILEWYSIHRHY\\nGVDIILLTQNIRKVHRDIKDMIEVTYRCTKNTAMGSTSSYTKKVQDGCAGEVVNTSTRFY\\nKSEYFPFYKSHSQSNKQVQEAEAKDIRPFWKRWPVVGTGVLLSLGLVFNIWAWWPESEQP\\nPDPVKPPQPVQAQLPDGTPTVDTAETKAKKKKKASGFGPLEDYDFYITGYAKQIAYAKRL\\nKYAAELDRDLTFYKIYIDVYDGRDKLFSFDHLDLVKIGYQFEVLSDCVYRVTWEETERIF\\nTCGQREKPSDILQQNMPVHI\\n', 'AB012574--GMS2_8--PROT\\nMKEFLDAILSRMRSPFLGISSLMYLVANVPMIAKFFIVSPDKKLTMLESYHFDYTLLLQC\\nMALALVYIVMADWLQVLIDKLVINAREKRKAITYRSQAKILALEYKSTKAYQEKLVDKEL\\nEGWEQERSMLKHSIAEKKEEIALYERNAEDLNEKILQLKNEIAERERKYLAQKENSISRQ\\nNAVMDVLMNIKSIEELLGVRIGSDGKKYVGMLGNLNKSKKATDDLTTYLNETISKIENEL\\nLGKEDNFDESDTNNVERIRKL\\n', 'AB012574--GMS2_9--PROT\\nMTKNYIFREFECGLSVEQAAELCLKTVRTVKEWDKGKTIPPECKRLMRMSKGRELSPHEQ\\nWRGFKMHYDKIELPTGQKVSAQQILTGIALIEISSELDLKTTAKLLKIARSIAKMIS\\n', 'AB012574--GMS2_10--PROT\\nMEVLMYTAELINAYKKAKNYVQDKQVAHDLNLDPPKISKIRKGVRQLTDEEAVFLAHGAG\\nIDPEIALLGCHADRNENPAIKSMWESIAKKYNGLGLSSISIVCAGLALVIASPQEPLLQC\\nALYLLMLNAIAYASPIKCLSFEGLFNEVSRND\\n', 'AB012574--GMS2_11--PROT\\nMLTEQIKSLIENECALSPRLTGVFFRKHLNQSMYGDDGQLTEFAIQCHHYFNELKRAAEQ\\nKAFHARLEQCRLQHEQQQESVKRVNQSVKKSANQSRAQFIGSLRFELNQGVLMVRSVSRS\\nMPTPTKWIRRYLKKLGVRRLGKSLSNGVLFTGDAVTEILACLQAKQAKNDTIPFELNISA\\nLPILAWFRSPLSLGTPTLEAQCS\\n', 'AB012574--GMS2_12--PROT\\nMNEAQIIYYDLLPDYTVSVLVKGCDEWDLLKSMSHLESWASSQFASYELVSITNTTVEQR\\nINMGVFDDYCN\\n', 'AB012574--GMS2_13--PROT\\nMTTATNILKSFDEQSVHIDYLCFTFAVKDLRHCHDAVRRLHKHEEYKGFAKSGLLQRHCR\\nAPKFPAPPVFNPTVAQTSDEIDAYNKAFDICYRNYLEDCLRIFTNQVLGLSLSAPRGLGF\\nQFYTESMKLTSPDGEDFCGFVGIGGNNDTVHFQINGTGCKHVFARRPTWSLHDWLTNVLG\\nVQTLAR\\n']\n"
     ]
    }
   ],
   "source": [
    "file = open('/home/emil/Desktop/Science/data/proteins_output/AB012574_PROT.fasta', 'r')\n",
    "file_reader = file.read()\n",
    "file.close()\n",
    "g = file_reader.split('>')\n",
    "print(g)"
   ]
  }
 ],
 "metadata": {
  "kernelspec": {
   "display_name": "Python 3",
   "language": "python",
   "name": "python3"
  },
  "language_info": {
   "codemirror_mode": {
    "name": "ipython",
    "version": 3
   },
   "file_extension": ".py",
   "mimetype": "text/x-python",
   "name": "python",
   "nbconvert_exporter": "python",
   "pygments_lexer": "ipython3",
   "version": "3.7.4"
  }
 },
 "nbformat": 4,
 "nbformat_minor": 2
}
