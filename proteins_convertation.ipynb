{
 "cells": [
  {
   "cell_type": "code",
   "execution_count": 2,
   "metadata": {},
   "outputs": [],
   "source": [
    "import os\n",
    "import numpy as np"
   ]
  },
  {
   "cell_type": "code",
   "execution_count": 16,
   "metadata": {},
   "outputs": [],
   "source": [
    "def run_convertation(path, name, out):\n",
    "    file = open(path, \"r\")\n",
    "    file_reader = file.read()\n",
    "    file.close()\n",
    "    proteins = file_reader.split('>')\n",
    "    if '' in proteins:\n",
    "        while('' in proteins):\n",
    "            proteins.remove('')\n",
    "    with open(out, 'w') as output:\n",
    "        for g in proteins:\n",
    "            s = ''\n",
    "            gene = g.split('\\n')\n",
    "            if '' in gene:\n",
    "                while('' in gene):\n",
    "                    gene.remove('')\n",
    "            sic = gene[0].split(' ')\n",
    "            gene[0] = '>' + name + '--GMS2_' + str(sic[0]) + '--PROT'\n",
    "            for i in gene:\n",
    "                if '>' not in i:\n",
    "                    s += str(i) + '\\n'\n",
    "            output.write(str(gene[0]) + '\\n')\n",
    "            output.write(s)"
   ]
  },
  {
   "cell_type": "code",
   "execution_count": 17,
   "metadata": {},
   "outputs": [],
   "source": [
    "for root, dirs, files in os.walk('/home/emil/Desktop/Science/data/gms2_proteins_output'):\n",
    "    for file in files:\n",
    "        path = os.path.join(root, file)\n",
    "        outname_1 = path.split('/')\n",
    "        outname = outname_1[len(outname_1) - 1]\n",
    "        name = outname.replace('_proteins.out', '')\n",
    "        outname = '/home/emil/Desktop/Science/data/proteins_output/' + name + '_PROT.fasta'\n",
    "        run_convertation(path, name, outname)"
   ]
  }
 ],
 "metadata": {
  "kernelspec": {
   "display_name": "Python 3",
   "language": "python",
   "name": "python3"
  },
  "language_info": {
   "codemirror_mode": {
    "name": "ipython",
    "version": 3
   },
   "file_extension": ".py",
   "mimetype": "text/x-python",
   "name": "python",
   "nbconvert_exporter": "python",
   "pygments_lexer": "ipython3",
   "version": "3.7.4"
  }
 },
 "nbformat": 4,
 "nbformat_minor": 2
}
