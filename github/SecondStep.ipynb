{
 "cells": [
  {
   "cell_type": "code",
   "execution_count": 28,
   "metadata": {},
   "outputs": [],
   "source": [
    "import numpy as np"
   ]
  },
  {
   "cell_type": "code",
   "execution_count": 30,
   "metadata": {},
   "outputs": [],
   "source": [
    "file = open('/home/emil/Desktop/Science/NC_017968.OUT', 'r')\n",
    "file_reader = np.loadtxt(file, dtype ='str', skiprows=11, delimiter='\\t')\n",
    "file.close()"
   ]
  },
  {
   "cell_type": "code",
   "execution_count": 31,
   "metadata": {},
   "outputs": [],
   "source": [
    "genes_positions = []\n",
    "for gene in file_reader:\n",
    "    genes_positions.append(gene.split(' '))\n",
    "for gene in genes_positions:\n",
    "    if ('' in gene):\n",
    "        while('' in gene):\n",
    "            gene.remove('')"
   ]
  },
  {
   "cell_type": "code",
   "execution_count": 32,
   "metadata": {},
   "outputs": [
    {
     "name": "stdout",
     "output_type": "stream",
     "text": [
      "['5', '-', '3766', '4104', '339', 'native', 'GAATAC', '4', '1']\n"
     ]
    }
   ],
   "source": [
    "print(genes_positions[4])"
   ]
  },
  {
   "cell_type": "code",
   "execution_count": 33,
   "metadata": {},
   "outputs": [],
   "source": [
    "file_seq = open('/home/emil/Desktop/Science/viruses_genomes/NC_017968', 'r')\n",
    "file_reader = np.loadtxt(file_seq, dtype ='str', skiprows=1, delimiter='\\n')\n",
    "file_seq.close()"
   ]
  },
  {
   "cell_type": "code",
   "execution_count": 38,
   "metadata": {},
   "outputs": [],
   "source": [
    "upstream_regions = []\n",
    "intersection = []\n",
    "sequence = str(file_reader)\n",
    "for gene in genes_positions:\n",
    "    s = []\n",
    "    strn = ''\n",
    "    s.append(str(gene[0]))\n",
    "    if (int(gene[2]) + int(gene[4]) < len(sequence)):\n",
    "        \n",
    "        if gene[1] == '+':\n",
    "            for i in range(int(gene[2]) - 50, int(gene[2]) - 1):\n",
    "                strn += str(sequence[i])\n",
    "            s.append(strn)\n",
    "            s.append(int(gene[2]) - 50)\n",
    "            s.append(int(gene[2]) - 1)\n",
    "            \n",
    "        if gene[1] == '-':\n",
    "            for i in range(int(gene[3]) - 1, int(gene[3]) + 49):\n",
    "                strn += str(sequence[i])\n",
    "            s.append(strn[::-1])\n",
    "            s.append(int(gene[3]) - 1)\n",
    "            s.append(int(gene[3]) + 49)\n",
    "    else:\n",
    "        s.append(gene[2])\n",
    "        s.append(gene[3])\n",
    "    upstream_regions.append(s)\n",
    "    \n",
    "upstream_regions_complement = []\n",
    "for i in range(len(upstream_regions)):\n",
    "    upstream_region = ''\n",
    "    for i in upstream_regions[i][1]:\n",
    "        for j in i:\n",
    "            if (j == 'T'):\n",
    "                upstream_region += 'A'\n",
    "            if (j == 'A'):\n",
    "                upstream_region += 'T'\n",
    "            if (j == 'C'):\n",
    "                upstream_region += 'G'\n",
    "            if (j == 'G'):\n",
    "                upstream_region += 'C'\n",
    "    upstream_regions_complement.append(upstream_region)"
   ]
  },
  {
   "cell_type": "code",
   "execution_count": 39,
   "metadata": {},
   "outputs": [],
   "source": [
    "overlapping = []\n",
    "for i in upstream_regions:\n",
    "    for j in genes_positions:\n",
    "        if (len(j) == 9 and len(i) == 4):\n",
    "            if (int(i[3]) > int(j[2]) and i != j and int(i[3]) < int(j[3])):\n",
    "                s = [i[0], j[0]]\n",
    "                k = [j[0], i[0]]\n",
    "                if (s not in overlapping and k not in overlapping):\n",
    "                    overlapping.append(s)"
   ]
  },
  {
   "cell_type": "code",
   "execution_count": 41,
   "metadata": {},
   "outputs": [],
   "source": [
    "out = open('NC_017968.overlapping.out', 'w')\n",
    "out.write('First 100 nucleotides from the upstream regions from each gene:')\n",
    "out.write('\\n')\n",
    "out.write('\\n')\n",
    "for i in range(len(upstream_regions)):\n",
    "    if (genes_positions[i][5] != 'atypical'):\n",
    "        out.write('gene name: <NC_017968>-<GMS2 ')\n",
    "        out.write(str(upstream_regions[i][0]) + '>')\n",
    "        out.write('\\n')\n",
    "        out.write(str(upstream_regions[i][1]))\n",
    "        out.write('\\n')\n",
    "        out.write(str(upstream_regions_complement[i]))\n",
    "        out.write('\\n')\n",
    "        out.write('\\n')\n",
    "    else:\n",
    "        out.write('gene name: <NC_017968>-<GMS2 ')\n",
    "        out.write(str(upstream_regions[i][0]) + '>')\n",
    "        out.write('\\n')\n",
    "        out.write('NO UPSTREAM REGION FOUND')\n",
    "        out.write('\\n')\n",
    "        out.write('\\n')\n",
    "out.write('Numbers of overlapping genes and upstream regions:')\n",
    "out.write('\\n')\n",
    "for i in range(len(overlapping)):\n",
    "    out.write(str(overlapping[i]))\n",
    "    out.write('\\n')\n",
    "out.close()"
   ]
  }
 ],
 "metadata": {
  "kernelspec": {
   "display_name": "Python 3",
   "language": "python",
   "name": "python3"
  },
  "language_info": {
   "codemirror_mode": {
    "name": "ipython",
    "version": 3
   },
   "file_extension": ".py",
   "mimetype": "text/x-python",
   "name": "python",
   "nbconvert_exporter": "python",
   "pygments_lexer": "ipython3",
   "version": "3.7.4"
  }
 },
 "nbformat": 4,
 "nbformat_minor": 2
}
