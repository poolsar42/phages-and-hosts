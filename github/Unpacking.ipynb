{
 "cells": [
  {
   "cell_type": "code",
   "execution_count": null,
   "metadata": {},
   "outputs": [],
   "source": [
    "import os, shutil, gzip "
   ]
  },
  {
   "cell_type": "code",
   "execution_count": null,
   "metadata": {},
   "outputs": [],
   "source": [
    "for root, dirs, files in os.walk('/home/emil/Desktop/Science/github/ftp.ncbi.nlm.nih.gov'):\n",
    "    for file in files:\n",
    "        path = os.path.join(root, file)\n",
    "        with gzip.open(path, 'rb') as f_in:\n",
    "            outname_1 = path.split('/')\n",
    "            outname_2 = outname_1[len(outname_1) - 1]\n",
    "            outname = outname_2.replace('_genomic.fna.gz', '')\n",
    "            with open('/home/emil/Desktop/Science/hosts_genomes/' + outname, 'wb') as f_out:\n",
    "                shutil.copyfileobj(f_in, f_out)"
   ]
  }
 ],
 "metadata": {
  "kernelspec": {
   "display_name": "Python 3",
   "language": "python",
   "name": "python3"
  },
  "language_info": {
   "codemirror_mode": {
    "name": "ipython",
    "version": 3
   },
   "file_extension": ".py",
   "mimetype": "text/x-python",
   "name": "python",
   "nbconvert_exporter": "python",
   "pygments_lexer": "ipython3",
   "version": "3.7.4"
  }
 },
 "nbformat": 4,
 "nbformat_minor": 2
}
