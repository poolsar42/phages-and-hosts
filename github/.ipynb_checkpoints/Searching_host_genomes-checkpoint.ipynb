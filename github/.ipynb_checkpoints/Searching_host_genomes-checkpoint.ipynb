{
 "cells": [
  {
   "cell_type": "code",
   "execution_count": 11,
   "metadata": {},
   "outputs": [
    {
     "name": "stderr",
     "output_type": "stream",
     "text": [
      "usage: ipykernel_launcher.py [-h] -i INPUT -o OUTPUT [-c CODE]\n",
      "ipykernel_launcher.py: error: the following arguments are required: -i/--input, -o/--output\n"
     ]
    },
    {
     "ename": "SystemExit",
     "evalue": "2",
     "output_type": "error",
     "traceback": [
      "An exception has occurred, use %tb to see the full traceback.\n",
      "\u001b[0;31mSystemExit\u001b[0m\u001b[0;31m:\u001b[0m 2\n"
     ]
    }
   ],
   "source": [
    "import subprocess, os, argparse, pandas as pd, csv\n",
    "import wget, urllib\n",
    "from Bio.SeqIO.FastaIO import SimpleFastaParser\n",
    "from Bio.Seq import Seq\n",
    "from Bio import SeqIO\n",
    "from Bio import Entrez\n",
    "import Bio\n",
    "from Bio import UniGene\n",
    "\n",
    "from Bio.Alphabet import genetic_dna"
   ]
  },
  {
   "cell_type": "markdown",
   "metadata": {},
   "source": [
    "$\\text{Searching bacteriophages in virus list and hosts Tax_ID list}$"
   ]
  },
  {
   "cell_type": "code",
   "execution_count": 12,
   "metadata": {
    "scrolled": true
   },
   "outputs": [
    {
     "ename": "FileNotFoundError",
     "evalue": "[Errno 2] No such file or directory: 'virushostdb.tsv'",
     "output_type": "error",
     "traceback": [
      "\u001b[0;31m---------------------------------------------------------------------------\u001b[0m",
      "\u001b[0;31mFileNotFoundError\u001b[0m                         Traceback (most recent call last)",
      "\u001b[0;32m<ipython-input-12-ff6e643534a3>\u001b[0m in \u001b[0;36m<module>\u001b[0;34m\u001b[0m\n\u001b[1;32m      4\u001b[0m \u001b[0mhost_name\u001b[0m \u001b[0;34m=\u001b[0m \u001b[0;34m[\u001b[0m\u001b[0;34m]\u001b[0m\u001b[0;34m\u001b[0m\u001b[0;34m\u001b[0m\u001b[0m\n\u001b[1;32m      5\u001b[0m \u001b[0mhost_id\u001b[0m \u001b[0;34m=\u001b[0m \u001b[0;34m[\u001b[0m\u001b[0;34m]\u001b[0m\u001b[0;34m\u001b[0m\u001b[0;34m\u001b[0m\u001b[0m\n\u001b[0;32m----> 6\u001b[0;31m \u001b[0;32mwith\u001b[0m \u001b[0mopen\u001b[0m\u001b[0;34m(\u001b[0m\u001b[0;34m\"virushostdb.tsv\"\u001b[0m\u001b[0;34m)\u001b[0m \u001b[0;32mas\u001b[0m \u001b[0mtsvfile\u001b[0m\u001b[0;34m:\u001b[0m\u001b[0;34m\u001b[0m\u001b[0;34m\u001b[0m\u001b[0m\n\u001b[0m\u001b[1;32m      7\u001b[0m     \u001b[0mtsvreader\u001b[0m \u001b[0;34m=\u001b[0m \u001b[0mcsv\u001b[0m\u001b[0;34m.\u001b[0m\u001b[0mreader\u001b[0m\u001b[0;34m(\u001b[0m\u001b[0mtsvfile\u001b[0m\u001b[0;34m,\u001b[0m \u001b[0mdelimiter\u001b[0m\u001b[0;34m=\u001b[0m\u001b[0;34m\"\\t\"\u001b[0m\u001b[0;34m,\u001b[0m\u001b[0;34m)\u001b[0m\u001b[0;34m\u001b[0m\u001b[0;34m\u001b[0m\u001b[0m\n\u001b[1;32m      8\u001b[0m     \u001b[0;32mfor\u001b[0m \u001b[0mline\u001b[0m \u001b[0;32min\u001b[0m \u001b[0mtsvreader\u001b[0m\u001b[0;34m:\u001b[0m\u001b[0;34m\u001b[0m\u001b[0;34m\u001b[0m\u001b[0m\n",
      "\u001b[0;31mFileNotFoundError\u001b[0m: [Errno 2] No such file or directory: 'virushostdb.tsv'"
     ]
    }
   ],
   "source": [
    "# Here I'm searching bacteriophages in the table (from Virus-Host DB FTP) and saving  result in list\n",
    "# Also I saving host names in anpther list\n",
    "z = []\n",
    "host_name = []\n",
    "host_id = []\n",
    "with open(\"virushostdb.tsv\") as tsvfile:\n",
    "    tsvreader = csv.reader(tsvfile, delimiter=\"\\t\",)\n",
    "    for line in tsvreader:\n",
    "        if ('Bacteria' in line[9]):\n",
    "            z.append(line)\n",
    "            host_name.append(line[8])\n",
    "            host_id.append(line[7])\n",
    "        if (line[9] == 'host lineage'):\n",
    "            z.append(line)"
   ]
  },
  {
   "cell_type": "markdown",
   "metadata": {},
   "source": [
    "$\\text{Searchinh names and genomes of bacheriophages}$"
   ]
  },
  {
   "cell_type": "markdown",
   "metadata": {},
   "source": [
    "$\\text{First Method}$"
   ]
  },
  {
   "cell_type": "code",
   "execution_count": 3,
   "metadata": {},
   "outputs": [],
   "source": [
    "#Here I'm searching bacteriophages genomes using an FTP from Virus-Host DB\n",
    "f = open('virushostdb.formatted.genomic.fna', 'r')\n",
    "s = f.read()\n",
    "f.close()\n",
    "lst1 = []\n",
    "lst2 = []\n",
    "Genome = s.split('>')\n",
    "Genome.remove('')\n",
    "lst = []\n",
    "for i in range(len(Genome)):\n",
    "    sf = Genome[i].split('|')\n",
    "    lst.append(sf)\n",
    "for i in range(0,len(lst)):\n",
    "    sf1 = lst[i][0].split(' ')\n",
    "    lst1.append(sf1)\n",
    "for i in range(0,len(lst1)):\n",
    "    s = ''\n",
    "    for j in range(1,len(lst1[i])):\n",
    "        s += lst1[i][j] + ' '\n",
    "    index = len(s)-1\n",
    "    s = s[:index] + s[index+1:]\n",
    "    lst2.append(s) #Virus names\n",
    "l = 0\n",
    "GENOMES = []\n",
    "NAMES = []\n",
    "for i in range(1,len(z)):\n",
    "    p = lst2.index(z[i][1])\n",
    "    NAMES.append(lst2[p]) #Bacteriophage names\n",
    "    GENOMES.append(lst[p][5]) #Bacteriophage genomes"
   ]
  },
  {
   "cell_type": "markdown",
   "metadata": {},
   "source": [
    "$\\text{Second Method (using biopython)}$"
   ]
  },
  {
   "cell_type": "code",
   "execution_count": 12,
   "metadata": {},
   "outputs": [],
   "source": [
    "Entrez.email = \"sharafutdinov.ehn@phystech.edu\"\n",
    "Genes = []\n",
    "#Can I do it in loop?\n",
    "handle = Entrez.efetch(db=\"nucleotide\", id=z[1][3], rettype=\"gb\", retmode=\"text\")\n",
    "record = SeqIO.read(handle, \"genbank\")\n",
    "handle.close()\n",
    "Genes.append(repr(record))\n",
    "f = open('OUTPUT.txt', 'w')\n",
    "f.write(Genes[0])\n",
    "f.close()\n",
    "#print(Genes)"
   ]
  },
  {
   "cell_type": "code",
   "execution_count": 38,
   "metadata": {},
   "outputs": [
    {
     "name": "stdout",
     "output_type": "stream",
     "text": [
      "Parsing...\n"
     ]
    },
    {
     "data": {
      "text/plain": [
       "Seq('ATTTTTTACGAACCTGTGGAAATTTTTGGTTATGACAATAAATCTAGTTTAGTA...GAA', IUPACAmbiguousDNA())"
      ]
     },
     "execution_count": 38,
     "metadata": {},
     "output_type": "execute_result"
    }
   ],
   "source": [
    "Entrez.email = \"sharafutdinov.ehn@phystech.edu\"# Always tell NCBI who you are\n",
    "filename = \"EU490707.gbk\"\n",
    "if not os.path.isfile(filename):# Downloading...\n",
    "    net_handle = Entrez.efetch(db=\"nucleotide\", id=\"EU490707\", rettype=\"gb\", retmode=\"text\")\n",
    "    out_handle = open(filename, \"w\")\n",
    "    out_handle.write(net_handle.read())\n",
    "    out_handle.close()\n",
    "    net_handle.close()\n",
    "    print(\"Saved\")\n",
    "    \n",
    "print(\"Parsing...\")\n",
    "record = SeqIO.read(filename, \"genbank\")\n",
    "record.seq"
   ]
  },
  {
   "cell_type": "markdown",
   "metadata": {},
   "source": [
    "$\\text{Searching IDList from hosts names}$"
   ]
  },
  {
   "cell_type": "code",
   "execution_count": 21,
   "metadata": {},
   "outputs": [],
   "source": [
    "#I know host names and here I'm searching their genomes\n",
    "Entrez.email = \"sharafutdinov.ehn@phystech.edu\"\n",
    "HOST_IDs = []\n",
    "s = ''\n",
    "j = 0\n",
    "#Can I do it in loop?\n",
    "s = host_name[1] + \"[Orgn]\"\n",
    "handle = Entrez.esearch(db=\"nucleotide\", term=s, idtype=\"acc\")\n",
    "record = Entrez.read(handle)\n",
    "record[\"Count\"]\n",
    "HOST_IDs.append(record[\"IdList\"])\n",
    "#print((HOST_IDs))"
   ]
  },
  {
   "cell_type": "markdown",
   "metadata": {},
   "source": [
    "$\\text{I 'm looking for host genomes here}$"
   ]
  },
  {
   "cell_type": "code",
   "execution_count": 22,
   "metadata": {},
   "outputs": [],
   "source": [
    "Entrez.email = \"sharafutdinov.ehn@phystech.edu\"\n",
    "Genes_Host = []\n",
    "#for i in range(len(HOST_IDs)): And can I do this in loop?\n",
    "handle = Entrez.efetch(db=\"nucleotide\", id=HOST_IDs[0][1], rettype=\"gb\", retmode=\"text\")\n",
    "record = SeqIO.read(handle, \"genbank\")\n",
    "handle.close()\n",
    "Genes_Host.append(repr(record.seq))\n",
    "#print((Genes_Host))"
   ]
  },
  {
   "cell_type": "markdown",
   "metadata": {},
   "source": [
    "$\\text{Searching hosts genome}$"
   ]
  },
  {
   "cell_type": "code",
   "execution_count": 4,
   "metadata": {},
   "outputs": [],
   "source": [
    "data = pd.read_csv('assembly_summary_genbank.txt', sep=\"\\n\", header=None)\n",
    "Assembly_summary_genbank = []\n",
    "taxid = [] \n",
    "f = open('Name_Organism.txt', 'w')\n",
    "non_complete_genome_id = []\n",
    "link_to_sequence = []\n",
    "for i in range(1,len(data[0])):\n",
    "    s = data[0][i].split('\\t')\n",
    "    taxid.append(s[5])\n",
    "    Assembly_summary_genbank.append(s)\n",
    "for ID in host_id:\n",
    "    if ID in taxid:\n",
    "        index = taxid.index(ID)\n",
    "        f.write(Assembly_summary_genbank[index][7])\n",
    "        f.write('\\n')\n",
    "        if (Assembly_summary_genbank[index][13] == 'Full' or Assembly_summary_genbank[index][11] == 'Chromosome'):\n",
    "            link_to_sequence.append(Assembly_summary_genbank[index][19])\n",
    "        else:\n",
    "            non_complete_genome_id.append(ID)\n",
    "    else:\n",
    "        non_complete_genome_id.append(ID)\n",
    "            \n",
    "f.close()"
   ]
  },
  {
   "cell_type": "markdown",
   "metadata": {},
   "source": [
    "$\\text{Downloading Data}$"
   ]
  },
  {
   "cell_type": "code",
   "execution_count": null,
   "metadata": {
    "scrolled": true
   },
   "outputs": [],
   "source": [
    "unique_link = set(link_to_sequence)\n",
    "unique_link = list(unique_link)\n",
    "for i in range (len(link_to_sequence)):\n",
    "    os.system('wget -r %s' %unique_link[i])"
   ]
  }
 ],
 "metadata": {
  "kernelspec": {
   "display_name": "Python 3",
   "language": "python",
   "name": "python3"
  },
  "language_info": {
   "codemirror_mode": {
    "name": "ipython",
    "version": 3
   },
   "file_extension": ".py",
   "mimetype": "text/x-python",
   "name": "python",
   "nbconvert_exporter": "python",
   "pygments_lexer": "ipython3",
   "version": "3.7.4"
  }
 },
 "nbformat": 4,
 "nbformat_minor": 2
}
