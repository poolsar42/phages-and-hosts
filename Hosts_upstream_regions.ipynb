{
 "cells": [
  {
   "cell_type": "code",
   "execution_count": 101,
   "metadata": {},
   "outputs": [],
   "source": [
    "import numpy as np\n",
    "import os"
   ]
  },
  {
   "cell_type": "code",
   "execution_count": 200,
   "metadata": {},
   "outputs": [],
   "source": [
    "def upstream_regions(file_gms, seq_file, out_file, name):\n",
    "    with open(file_gms, 'r') as file:\n",
    "        file_reader = np.loadtxt(file, dtype ='str', delimiter='\\t')\n",
    "    genes_positions = []\n",
    "    for gene in file_reader:\n",
    "        genes_positions.append(gene.split(' '))\n",
    "    for gene in genes_positions:\n",
    "        if ('' in gene):\n",
    "            while('' in gene):\n",
    "                gene.remove('')\n",
    "    with open(seq_file, 'r') as file_seq:\n",
    "        file_reader = file_seq.read()\n",
    "    sequences = file_reader.split('>')\n",
    "    for i in sequences:\n",
    "        if i == '':\n",
    "            sequences.remove(i)\n",
    "    \n",
    "    indexes = []\n",
    "    \n",
    "    for i in range(len(sequences)):\n",
    "        s = sequences[i].split('\\n')\n",
    "        seq = ''\n",
    "        for j in range(1, len(s)):\n",
    "            seq += s[j]\n",
    "        s[0] = s[0].split(' ')\n",
    "        sequences[i] = seq\n",
    "        indexes.append(s[0][0])\n",
    "        \n",
    "    names = []\n",
    "    upstream_regions = []\n",
    "    intersection = []\n",
    "    for gene in genes_positions:\n",
    "        s = []\n",
    "        strn = ''\n",
    "        s.append(str(gene[0]))\n",
    "        if len(gene) <= 2:\n",
    "            SequenceID = gene[1]\n",
    "            index = indexes.index(SequenceID)\n",
    "        else:\n",
    "            if ('<' not in gene[2]) and ('>' not in gene[3]) and (int(gene[2]) > 50) and (int(gene[3]) + 49 < len(sequences[index]) and (int(gene[2]) + int(gene[4]) < len(sequences[index]))):\n",
    "                \n",
    "                if gene[1] == '+':\n",
    "                    for i in range(int(gene[2]) - 49, int(gene[2]) + 1):\n",
    "                        strn += str(sequences[index][i])\n",
    "                    s.append(strn)\n",
    "                    s.append(int(gene[2]) - 50)\n",
    "                    s.append(int(gene[2]))\n",
    "            \n",
    "                if gene[1] == '-':\n",
    "                \n",
    "                    for i in range(int(gene[3]) , int(gene[3]) + 50):\n",
    "                        strn += str(sequences[index][i])\n",
    "                    s.append(strn[::-1])\n",
    "                    s.append(int(gene[3]))\n",
    "                    s.append(int(gene[3]) + 50)\n",
    "                \n",
    "                if (int(gene[2]) < 50 and gene[1] == '+'):\n",
    "                \n",
    "                    for i in range(0, int(gene[2]) + 1):\n",
    "                        strn += str(sequences[index][1][i])\n",
    "                    s.append(strn)\n",
    "                    s.append(0)\n",
    "                    s.append(int(gene[2]))\n",
    "                \n",
    "                if (int(gene[3]) + 49 > len(sequences[index]) and gene[2] == '-'):\n",
    "                \n",
    "                    for i in range(int(gene[3]), len(sequences[index]) - 1):\n",
    "                        strn += str(sequences[index][i])\n",
    "                    s.append(strn[::-1])\n",
    "                    s.append(int(gene[3]))\n",
    "                    s.append(len(sequence))\n",
    "                \n",
    "                names.append(name + '--' + SequenceID)\n",
    "                upstream_regions.append(s)\n",
    "                \n",
    "    with open(out_file, 'w') as out:\n",
    "        for i in range(len(upstream_regions)):\n",
    "            out.write('>' + names[i] + '--GMS2_')\n",
    "            out.write(str(upstream_regions[i][0]) + '--UPS' + '\\n')\n",
    "            out.write(str(upstream_regions[i][1]) + '\\n')"
   ]
  },
  {
   "cell_type": "code",
   "execution_count": 201,
   "metadata": {},
   "outputs": [
    {
     "ename": "SyntaxError",
     "evalue": "invalid syntax (<ipython-input-201-7e9b64e817d9>, line 1)",
     "output_type": "error",
     "traceback": [
      "\u001b[0;36m  File \u001b[0;32m\"<ipython-input-201-7e9b64e817d9>\"\u001b[0;36m, line \u001b[0;32m1\u001b[0m\n\u001b[0;31m    def overlapping_regions:\u001b[0m\n\u001b[0m                           ^\u001b[0m\n\u001b[0;31mSyntaxError\u001b[0m\u001b[0;31m:\u001b[0m invalid syntax\n"
     ]
    }
   ],
   "source": [
    "def overlapping_regions:\n",
    "    overlapping = []\n",
    "    for i in upstream_regions:\n",
    "        for j in genes_positions:\n",
    "            if ('<' not in j[2]) and ('>' not in j[3]):\n",
    "                if (i[0] != j[0] and len(i) >= 3 and len(j) > 3):\n",
    "                    if (int(j[3]) in range(int(i[2]), int(i[3] + 1))) or (int(j[2]) in range(int(i[2]), int(i[3] + 1))): \n",
    "                        s = [i[0], j[0]]\n",
    "                        k = [j[0], i[0]]\n",
    "                        if (s not in overlapping and k not in overlapping):\n",
    "                            get = str(s[0]) + ' ' + str(s[1])\n",
    "                            overlapping.append(get)"
   ]
  },
  {
   "cell_type": "code",
   "execution_count": 202,
   "metadata": {},
   "outputs": [],
   "source": [
    "for root, dirs, files in os.walk('/home/emil/Desktop/Science/data/gms2_hosts_output'):\n",
    "    for file in files:\n",
    "        path = os.path.join(root, file)\n",
    "        s = path.split('/')\n",
    "        name = s[len(s)-1].replace('_gms2.out','')\n",
    "        sequence = '/home/emil/Desktop/Science/data/hosts_genomes/' + name\n",
    "        outname = '/home/emil/Desktop/Science/data/host_upstream_regions/' + name +'_UPS.fasta'\n",
    "        upstream_regions(path, sequence, outname, name)"
   ]
  }
 ],
 "metadata": {
  "kernelspec": {
   "display_name": "Python 3",
   "language": "python",
   "name": "python3"
  },
  "language_info": {
   "codemirror_mode": {
    "name": "ipython",
    "version": 3
   },
   "file_extension": ".py",
   "mimetype": "text/x-python",
   "name": "python",
   "nbconvert_exporter": "python",
   "pygments_lexer": "ipython3",
   "version": "3.7.4"
  }
 },
 "nbformat": 4,
 "nbformat_minor": 2
}
