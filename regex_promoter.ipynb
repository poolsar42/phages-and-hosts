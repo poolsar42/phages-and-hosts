{
 "cells": [
  {
   "cell_type": "code",
   "execution_count": 1,
   "metadata": {},
   "outputs": [],
   "source": [
    "import pandas as pd\n",
    "import numpy as np\n",
    "import re"
   ]
  },
  {
   "cell_type": "code",
   "execution_count": 2,
   "metadata": {},
   "outputs": [
    {
     "data": {
      "text/html": [
       "<div>\n",
       "<style scoped>\n",
       "    .dataframe tbody tr th:only-of-type {\n",
       "        vertical-align: middle;\n",
       "    }\n",
       "\n",
       "    .dataframe tbody tr th {\n",
       "        vertical-align: top;\n",
       "    }\n",
       "\n",
       "    .dataframe thead th {\n",
       "        text-align: right;\n",
       "    }\n",
       "</style>\n",
       "<table border=\"1\" class=\"dataframe\">\n",
       "  <thead>\n",
       "    <tr style=\"text-align: right;\">\n",
       "      <th></th>\n",
       "      <th>Unnamed: 0</th>\n",
       "      <th>id</th>\n",
       "      <th>name</th>\n",
       "      <th>width</th>\n",
       "      <th>sites</th>\n",
       "      <th>ic</th>\n",
       "      <th>re</th>\n",
       "      <th>llr</th>\n",
       "      <th>e_value</th>\n",
       "      <th>bayes_threshold</th>\n",
       "      <th>motif_scores</th>\n",
       "      <th>motif_probs</th>\n",
       "      <th>motif_reg_expr</th>\n",
       "      <th>command_line</th>\n",
       "      <th>reason_for_stopping</th>\n",
       "      <th>EPS</th>\n",
       "      <th>fasta</th>\n",
       "      <th>location</th>\n",
       "    </tr>\n",
       "  </thead>\n",
       "  <tbody>\n",
       "    <tr>\n",
       "      <th>0</th>\n",
       "      <td>0</td>\n",
       "      <td>MEME_0_1115_motif_1</td>\n",
       "      <td>WHAYVHHAVHMWWYWAVHAAHWAHWHHTYYCYHWYM</td>\n",
       "      <td>36</td>\n",
       "      <td>110</td>\n",
       "      <td>14.6</td>\n",
       "      <td>12.4</td>\n",
       "      <td>947</td>\n",
       "      <td>1.800000e-28</td>\n",
       "      <td>8.4566</td>\n",
       "      <td>MEME_0_1115_motif_1.scores.tsv</td>\n",
       "      <td>MEME_0_1115_motif_1.probs.tsv</td>\n",
       "      <td>[ATC][TAC][AT][TCA][CAG][TAC][ACT][AT][AGC][AT...</td>\n",
       "      <td>meme host_phage_1/GCA_000023765.2_ASM2376v2_an...</td>\n",
       "      <td>Stopped because motif E-value &gt; 1.00e-02.</td>\n",
       "      <td>MEME_0_1115_logo1.eps</td>\n",
       "      <td>GCA_000023765.2_ASM2376v2_and_phages_UPS.fasta</td>\n",
       "      <td>NOT FOUND</td>\n",
       "    </tr>\n",
       "    <tr>\n",
       "      <th>1</th>\n",
       "      <td>1</td>\n",
       "      <td>MEME_0_1115_motif_2</td>\n",
       "      <td>CTTTTWRAKGAGGRKYRTMSAYGRARYACSGWGRSS</td>\n",
       "      <td>36</td>\n",
       "      <td>6</td>\n",
       "      <td>47.0</td>\n",
       "      <td>51.0</td>\n",
       "      <td>212</td>\n",
       "      <td>1.900000e-16</td>\n",
       "      <td>11.8957</td>\n",
       "      <td>MEME_0_1115_motif_2.scores.tsv</td>\n",
       "      <td>MEME_0_1115_motif_2.probs.tsv</td>\n",
       "      <td>CTTTT[TA][GA]A[GT]G[AG]GG[AG][GT][CT][AG]T[AC]...</td>\n",
       "      <td>meme host_phage_1/GCA_000023765.2_ASM2376v2_an...</td>\n",
       "      <td>Stopped because motif E-value &gt; 1.00e-02.</td>\n",
       "      <td>MEME_0_1115_logo2.eps</td>\n",
       "      <td>GCA_000023765.2_ASM2376v2_and_phages_UPS.fasta</td>\n",
       "      <td>BOTH</td>\n",
       "    </tr>\n",
       "    <tr>\n",
       "      <th>2</th>\n",
       "      <td>2</td>\n",
       "      <td>MEME_0_1115_motif_3</td>\n",
       "      <td>CCAAGACTTGTTGTTAAACGCTTTAAAAAAGGAGAC</td>\n",
       "      <td>36</td>\n",
       "      <td>3</td>\n",
       "      <td>72.0</td>\n",
       "      <td>70.2</td>\n",
       "      <td>146</td>\n",
       "      <td>1.500000e-07</td>\n",
       "      <td>12.1073</td>\n",
       "      <td>MEME_0_1115_motif_3.scores.tsv</td>\n",
       "      <td>MEME_0_1115_motif_3.probs.tsv</td>\n",
       "      <td>CCAAGACTTGTTGTTAAACGCTTTAAAAAAGGAGAC</td>\n",
       "      <td>meme host_phage_1/GCA_000023765.2_ASM2376v2_an...</td>\n",
       "      <td>Stopped because motif E-value &gt; 1.00e-02.</td>\n",
       "      <td>MEME_0_1115_logo3.eps</td>\n",
       "      <td>GCA_000023765.2_ASM2376v2_and_phages_UPS.fasta</td>\n",
       "      <td>BOTH</td>\n",
       "    </tr>\n",
       "    <tr>\n",
       "      <th>3</th>\n",
       "      <td>3</td>\n",
       "      <td>MEME_0_1115_motif_4</td>\n",
       "      <td>TGHHHNAYAARGHWAAWRRHKATRAARDGAAAADA</td>\n",
       "      <td>35</td>\n",
       "      <td>23</td>\n",
       "      <td>24.5</td>\n",
       "      <td>21.6</td>\n",
       "      <td>345</td>\n",
       "      <td>8.600000e-11</td>\n",
       "      <td>10.6664</td>\n",
       "      <td>MEME_0_1115_motif_4.scores.tsv</td>\n",
       "      <td>MEME_0_1115_motif_4.probs.tsv</td>\n",
       "      <td>[TC]G[TAC][TAC][ACT][CAGT][AT][TC][AT][AT][AG]...</td>\n",
       "      <td>meme host_phage_1/GCA_000023765.2_ASM2376v2_an...</td>\n",
       "      <td>Stopped because motif E-value &gt; 1.00e-02.</td>\n",
       "      <td>MEME_0_1115_logo4.eps</td>\n",
       "      <td>GCA_000023765.2_ASM2376v2_and_phages_UPS.fasta</td>\n",
       "      <td>NOT FOUND</td>\n",
       "    </tr>\n",
       "    <tr>\n",
       "      <th>4</th>\n",
       "      <td>4</td>\n",
       "      <td>MEME_0_1115_motif_5</td>\n",
       "      <td>GCGTTAGTAGATGCCCKATAACTTGTAATTTCCTAC</td>\n",
       "      <td>36</td>\n",
       "      <td>4</td>\n",
       "      <td>58.8</td>\n",
       "      <td>58.4</td>\n",
       "      <td>162</td>\n",
       "      <td>2.100000e-07</td>\n",
       "      <td>12.0333</td>\n",
       "      <td>MEME_0_1115_motif_5.scores.tsv</td>\n",
       "      <td>MEME_0_1115_motif_5.probs.tsv</td>\n",
       "      <td>GCGTTAG[TC]A[GA]A[TA]GC[CA][CT][GT]A[TA]A[AC][...</td>\n",
       "      <td>meme host_phage_1/GCA_000023765.2_ASM2376v2_an...</td>\n",
       "      <td>Stopped because motif E-value &gt; 1.00e-02.</td>\n",
       "      <td>MEME_0_1115_logo5.eps</td>\n",
       "      <td>GCA_000023765.2_ASM2376v2_and_phages_UPS.fasta</td>\n",
       "      <td>BOTH</td>\n",
       "    </tr>\n",
       "  </tbody>\n",
       "</table>\n",
       "</div>"
      ],
      "text/plain": [
       "   Unnamed: 0                   id                                  name  \\\n",
       "0           0  MEME_0_1115_motif_1  WHAYVHHAVHMWWYWAVHAAHWAHWHHTYYCYHWYM   \n",
       "1           1  MEME_0_1115_motif_2  CTTTTWRAKGAGGRKYRTMSAYGRARYACSGWGRSS   \n",
       "2           2  MEME_0_1115_motif_3  CCAAGACTTGTTGTTAAACGCTTTAAAAAAGGAGAC   \n",
       "3           3  MEME_0_1115_motif_4   TGHHHNAYAARGHWAAWRRHKATRAARDGAAAADA   \n",
       "4           4  MEME_0_1115_motif_5  GCGTTAGTAGATGCCCKATAACTTGTAATTTCCTAC   \n",
       "\n",
       "   width  sites    ic    re  llr       e_value  bayes_threshold  \\\n",
       "0     36    110  14.6  12.4  947  1.800000e-28           8.4566   \n",
       "1     36      6  47.0  51.0  212  1.900000e-16          11.8957   \n",
       "2     36      3  72.0  70.2  146  1.500000e-07          12.1073   \n",
       "3     35     23  24.5  21.6  345  8.600000e-11          10.6664   \n",
       "4     36      4  58.8  58.4  162  2.100000e-07          12.0333   \n",
       "\n",
       "                     motif_scores                    motif_probs  \\\n",
       "0  MEME_0_1115_motif_1.scores.tsv  MEME_0_1115_motif_1.probs.tsv   \n",
       "1  MEME_0_1115_motif_2.scores.tsv  MEME_0_1115_motif_2.probs.tsv   \n",
       "2  MEME_0_1115_motif_3.scores.tsv  MEME_0_1115_motif_3.probs.tsv   \n",
       "3  MEME_0_1115_motif_4.scores.tsv  MEME_0_1115_motif_4.probs.tsv   \n",
       "4  MEME_0_1115_motif_5.scores.tsv  MEME_0_1115_motif_5.probs.tsv   \n",
       "\n",
       "                                      motif_reg_expr  \\\n",
       "0  [ATC][TAC][AT][TCA][CAG][TAC][ACT][AT][AGC][AT...   \n",
       "1  CTTTT[TA][GA]A[GT]G[AG]GG[AG][GT][CT][AG]T[AC]...   \n",
       "2               CCAAGACTTGTTGTTAAACGCTTTAAAAAAGGAGAC   \n",
       "3  [TC]G[TAC][TAC][ACT][CAGT][AT][TC][AT][AT][AG]...   \n",
       "4  GCGTTAG[TC]A[GA]A[TA]GC[CA][CT][GT]A[TA]A[AC][...   \n",
       "\n",
       "                                        command_line  \\\n",
       "0  meme host_phage_1/GCA_000023765.2_ASM2376v2_an...   \n",
       "1  meme host_phage_1/GCA_000023765.2_ASM2376v2_an...   \n",
       "2  meme host_phage_1/GCA_000023765.2_ASM2376v2_an...   \n",
       "3  meme host_phage_1/GCA_000023765.2_ASM2376v2_an...   \n",
       "4  meme host_phage_1/GCA_000023765.2_ASM2376v2_an...   \n",
       "\n",
       "                         reason_for_stopping                    EPS  \\\n",
       "0  Stopped because motif E-value > 1.00e-02.  MEME_0_1115_logo1.eps   \n",
       "1  Stopped because motif E-value > 1.00e-02.  MEME_0_1115_logo2.eps   \n",
       "2  Stopped because motif E-value > 1.00e-02.  MEME_0_1115_logo3.eps   \n",
       "3  Stopped because motif E-value > 1.00e-02.  MEME_0_1115_logo4.eps   \n",
       "4  Stopped because motif E-value > 1.00e-02.  MEME_0_1115_logo5.eps   \n",
       "\n",
       "                                            fasta   location  \n",
       "0  GCA_000023765.2_ASM2376v2_and_phages_UPS.fasta  NOT FOUND  \n",
       "1  GCA_000023765.2_ASM2376v2_and_phages_UPS.fasta       BOTH  \n",
       "2  GCA_000023765.2_ASM2376v2_and_phages_UPS.fasta       BOTH  \n",
       "3  GCA_000023765.2_ASM2376v2_and_phages_UPS.fasta  NOT FOUND  \n",
       "4  GCA_000023765.2_ASM2376v2_and_phages_UPS.fasta       BOTH  "
      ]
     },
     "execution_count": 2,
     "metadata": {},
     "output_type": "execute_result"
    }
   ],
   "source": [
    "data = pd.read_csv('/home/emi/Desktop/sci/emil_work_march/files_from_work/host_phage_results_total_updated.tsv', delimiter='\\t')\n",
    "data_first_copy, data_second_copy = data.copy(), data.copy()\n",
    "data.head(5)"
   ]
  },
  {
   "cell_type": "code",
   "execution_count": 42,
   "metadata": {},
   "outputs": [
    {
     "data": {
      "text/plain": [
       "'meme host_phage_1/GCA_000023765.2_ASM2376v2_and_phages_UPS.fasta -oc /home/rohit/asier/meme_suite_stuff/1115_meme/ -dna -evt 0.01 -minw 10 -maxw 50 -nmotifs 100 '"
      ]
     },
     "execution_count": 42,
     "metadata": {},
     "output_type": "execute_result"
    }
   ],
   "source": [
    "data.command_line[0]"
   ]
  },
  {
   "cell_type": "code",
   "execution_count": 41,
   "metadata": {},
   "outputs": [
    {
     "name": "stdout",
     "output_type": "stream",
     "text": [
      "('W', 'ATC')\n",
      "('H', 'TAC')\n",
      "('A', 'AT')\n",
      "('Y', 'TCA')\n",
      "('V', 'CAG')\n",
      "('H', 'TAC')\n",
      "('H', 'ACT')\n",
      "('A', 'AT')\n",
      "('V', 'AGC')\n",
      "('H', 'ATC')\n",
      "('M', 'AC')\n",
      "('W', 'ATC')\n",
      "('W', 'AT')\n",
      "('Y', 'CTA')\n",
      "('W', 'TA')\n",
      "('A', 'A')\n",
      "('V', 'ACG')\n",
      "('H', 'ACT')\n",
      "('A', 'AT')\n",
      "('A', 'A')\n",
      "('H', 'ACT')\n",
      "('W', 'ATC')\n",
      "('A', 'ACT')\n",
      "('H', 'ATC')\n",
      "('W', 'AT')\n",
      "('H', 'CAT')\n",
      "('H', 'TCA')\n",
      "('T', 'TC')\n",
      "('Y', 'TC')\n",
      "('Y', 'CT')\n",
      "('C', 'C')\n",
      "('Y', 'CT')\n",
      "('H', 'TCA')\n",
      "('W', 'TAC')\n",
      "('Y', 'CT')\n",
      "('M', 'CA')\n"
     ]
    }
   ],
   "source": [
    "## Just checking\n",
    "\n",
    "k = data.motif_reg_expr[0]\n",
    "p = []\n",
    "for i in k.split(']['):\n",
    "    \n",
    "    if ('[') in i:\n",
    "        for j in i.split('['):\n",
    "            if (']') in j:\n",
    "                for s in j.split(']'):\n",
    "                    p.append(s)\n",
    "                continue\n",
    "            p.append(j)\n",
    "        continue\n",
    "        \n",
    "    if (']') in i:\n",
    "        for j in i.split(']'):\n",
    "            if ('[') in j:\n",
    "                for s in j.split('['):\n",
    "                    p.append(s)\n",
    "                continue\n",
    "            p.append(j)\n",
    "        continue\n",
    "        \n",
    "        \n",
    "    p.append(i)\n",
    "for _ in range(2):\n",
    "    p.remove('')\n",
    "    \n",
    "assert len(p) == len(data.name[0]), 'Incorrect length'\n",
    "\n",
    "for f in zip(data.name[0], p):\n",
    "    print(f)\n"
   ]
  },
  {
   "cell_type": "markdown",
   "metadata": {},
   "source": [
    "[In this article](https://www.addgene.org/mol-bio-reference/promoters/)  -35 element: TTGACA\n",
    "\n",
    "[From Wikipedia](https://en.wikipedia.org/wiki/Promoter_(genetics)#Bacterial)  -35 element: TTGACA, -10 element: TATAAT\n",
    "\n",
    "[In this article](https://www.cell.com/cell/fulltext/S0092-8674(11)01339-0) -10 element: TACAAT\n",
    "\n",
    "[I took info from here](https://www.sciencedirect.com/topics/biochemistry-genetics-and-molecular-biology/pribnow-box) - useful link\n",
    "\n",
    "[And also from here](https://watermark.silverchair.com/197-2-187.pdf?token=AQECAHi208BE49Ooan9kkhW_Ercy7Dm3ZL_9Cf3qfKAc485ysgAAAt0wggLZBgkqhkiG9w0BBwagggLKMIICxgIBADCCAr8GCSqGSIb3DQEHATAeBglghkgBZQMEAS4wEQQMExbp9zzphpgcZa9rAgEQgIICkDAsloTW-RETW1DdWzGbaugRz42fu5uLmPtkN9kDYdICLaHiiVBSKCWIT-Uzkn7NW7tfsIYtmZv8DU2yzY9eL3PFTl_dmkntZBaZEACpDrTpwmEafYC5pJn9r1idgzc4fnOTdR683Ay02eXyMcLyNWv-l_lvMqZ58uhRAfbKXEfQkRfd6OO_NasPNAERlSdjSYHs7HUlvlzwzaG0Ei2u_NUA_50eVY7mGtEMcQFcGYHPI2dU-n8UAFSSyui0YzkmC8ETgblqOhtGALy1VopaGyCY_pB8uSQIsgR2U08KJt985cD9NfMBRHXzJa-JE0Wp_Vdwj_NXja-H_eRmkCzDs2A4oqwqBmBWZ0akd9YZdSWfwN_agYRhivvNBJ7nGGLJkyT8EN4ArwFY67ywulk3GGjWLddfJmNxqK-cuy0eqOghcke1WjJBKxlCV1lsTUx6jxfUe6aM36NTaWwmTcU1CS_FSb3PmYWTQ_2rQmByvNE3Rc1mb9LnC_MdpceW77EP5MM21yf58T8XJYHzrYoumPmeoRczYfRZnpFOr0whGewd3i0WpoNjL8bnXNAWmaL44A5ZQThYfIkv1-0aUCUG7wOET38kpAjoszBynai41Jec9iwBnAsoWTqGZP_yzv8ZdAFMhZq1-fH8T4LM46rf8dFKjEm0ZIs08JpZRY9Bb3CvTZOA55U4josXxwupdru5UNdCzvcqdw75mcZ1oOnv0eCAH_zuJmlugRqrXVtJSqsJ0c72c1irnuDFts8Z9VPfm2Hdx2u-JDtnKM8J0LkmAn5A9pBYwsgO7t-CTKzQBb_N8YfGtYDJTs_dtyQwBpZe1Ul8ek6SZgLIa0Rqy7ldneGkIY87u5DEv-y0jGiyDUKb) - also useful\n",
    "\n",
    "\n",
    "## Ambiguous symbols \n",
    "from https://meme-suite.org/meme/doc/alphabet-format.html#standard_DNA\n",
    "\n",
    "$$ U = T $$ \n",
    "$$ R = AG $$\n",
    "$$ Y = CT $$\n",
    "$$ K = GT $$\n",
    "$$ M = AC $$\n",
    "$$ S = CG $$\n",
    "$$ W = AT $$\n",
    "$$ B = CGT $$\n",
    "$$ D = GAT $$\n",
    "$$ H = ACT $$ \n",
    "$$ V = ACG $$\n",
    "$$ N = ACGT $$ \n",
    "$$ X = ACGT $$ "
   ]
  },
  {
   "cell_type": "markdown",
   "metadata": {},
   "source": [
    "# Section a)"
   ]
  },
  {
   "cell_type": "markdown",
   "metadata": {},
   "source": [
    "## First Way\n",
    "\n",
    "Here, using the alphabet above, I matched all letters related to letters in -35 & -10 elements."
   ]
  },
  {
   "cell_type": "code",
   "execution_count": null,
   "metadata": {},
   "outputs": [],
   "source": [
    "# in you i forget some\n",
    "\n",
    "# pattern_10.finditer(name[i]) - finds all matches\n",
    "# pattern_10.findall(name[i]) - preint out all matches\n",
    "# pattern_10.match(name[i]) - return first match in the begining in the string (only)\n",
    "# pattern_10.search(name[i]) - search from the entire sentence"
   ]
  },
  {
   "cell_type": "code",
   "execution_count": 3,
   "metadata": {},
   "outputs": [
    {
     "name": "stdout",
     "output_type": "stream",
     "text": [
      "Length before removing:  1946\n",
      "Length after removing:  1344\n"
     ]
    }
   ],
   "source": [
    "T = '[tuykwbdhnx]'\n",
    "A = '[armwdhvnx]'\n",
    "C = '[cymsbhvnx]'\n",
    "G = '[grksbdvnx]'\n",
    "\n",
    "pattern_35 = re.compile(T + T + G + A + C + A, re.I) # re.IGNORECASE - flag\n",
    "pattern_10 = re.compile(T + A + '(' + T + '|c)' + A + A + T, re.I)\n",
    "\n",
    "occurrences = []\n",
    "names = data_first_copy.name\n",
    "\n",
    "print(\"Length before removing: \", len(data_first_copy))\n",
    "\n",
    "for i in names.index:\n",
    "    if (pattern_10.search(names[i]) or pattern_35.search(names[i])):\n",
    "        occurrences.append(i)\n",
    "            \n",
    "data_first_copy=data_first_copy.drop(occurrences)\n",
    "\n",
    "print(\"Length after removing: \", len(data_first_copy))"
   ]
  },
  {
   "cell_type": "markdown",
   "metadata": {},
   "source": [
    "## Second Way\n",
    "Just deleting only those motifs that exactly match the ones described in the articles"
   ]
  },
  {
   "cell_type": "code",
   "execution_count": 4,
   "metadata": {},
   "outputs": [
    {
     "name": "stdout",
     "output_type": "stream",
     "text": [
      "Length before removing:  1946\n",
      "Length after removing:  1895\n"
     ]
    }
   ],
   "source": [
    "pattern_35 = re.compile('ttgaca', re.I) # re.IGNORECASE - flag\n",
    "pattern_10 = re.compile('ta[tc]aat', re.I)\n",
    "\n",
    "occurrences = []\n",
    "names = data_second_copy.name\n",
    "\n",
    "print(\"Length before removing: \", len(data_second_copy))\n",
    "\n",
    "for i in names.index:\n",
    "    if (pattern_10.search(names[i]) or pattern_35.search(names[i])):\n",
    "        occurrences.append(i)\n",
    "            \n",
    "data_second_copy=data_second_copy.drop(occurrences)\n",
    "\n",
    "print(\"Length after removing: \", len(data_second_copy))"
   ]
  },
  {
   "cell_type": "markdown",
   "metadata": {},
   "source": [
    "### Next, we will perform the same operations for both datasets, separating them as first and second in the variable names"
   ]
  },
  {
   "cell_type": "markdown",
   "metadata": {},
   "source": [
    "# Section b)"
   ]
  },
  {
   "cell_type": "code",
   "execution_count": 12,
   "metadata": {},
   "outputs": [
    {
     "name": "stderr",
     "output_type": "stream",
     "text": [
      "<ipython-input-12-76bbad4ee05b>:29: RuntimeWarning: Mean of empty slice.\n",
      "  motif_positions_first.average_start[index] = start_positions.mean()\n",
      "<ipython-input-12-76bbad4ee05b>:30: RuntimeWarning: Mean of empty slice.\n",
      "  motif_positions_first.average_end[index] = end_positions.mean()\n"
     ]
    }
   ],
   "source": [
    "# for the first copy\n",
    "\n",
    "motif_positions_first = pd.DataFrame(index = data_first_copy.index,\n",
    "                                     columns = ['name', 'regex', 'average_start',\n",
    "                                                 'average_end', 'std_start', 'std_end'])\n",
    "\n",
    "for index, name, regex, fasta_name in zip(data_first_copy.index,\n",
    "                                      data_first_copy.name,\n",
    "                                      data_first_copy.motif_reg_expr,\n",
    "                                    data_first_copy.fasta):\n",
    "    \n",
    "    start_positions = np.array([])\n",
    "    end_positions = np.array([])\n",
    "    motif_name = name # initializing\n",
    "    \n",
    "    with open('/home/emi/Desktop/sci/emil_work_march/host_and_phage_upstream_regions/' + fasta_name, 'r') as file:\n",
    "        sequence = file.read() #reading sequence\n",
    "        \n",
    "    sequences = [seq.split('\\n')[1] for seq in sequence[1:].split('>')]\n",
    "    for seq in sequences:\n",
    "        for match in re.compile(regex).finditer(seq): # finding matches in all sequences\n",
    "            start_positions = np.append(start_positions,\n",
    "                                        match.span()[0])\n",
    "            end_positions = np.append(end_positions,\n",
    "                                        match.span()[1])\n",
    "    \n",
    "    motif_positions_first.name[index] = name\n",
    "    motif_positions_first.regex[index] = regex\n",
    "    motif_positions_first.average_start[index] = start_positions.mean()\n",
    "    motif_positions_first.average_end[index] = end_positions.mean()\n",
    "    motif_positions_first.std_start[index] = start_positions.std()\n",
    "    motif_positions_first.std_end[index] = end_positions.std() # adding all the info"
   ]
  },
  {
   "cell_type": "code",
   "execution_count": 13,
   "metadata": {},
   "outputs": [
    {
     "name": "stderr",
     "output_type": "stream",
     "text": [
      "<ipython-input-13-8483012c9f18>:29: RuntimeWarning: Mean of empty slice.\n",
      "  motif_positions_second.average_start[index] = start_positions.mean()\n",
      "<ipython-input-13-8483012c9f18>:30: RuntimeWarning: Mean of empty slice.\n",
      "  motif_positions_second.average_end[index] = end_positions.mean()\n"
     ]
    }
   ],
   "source": [
    "# and for the second\n",
    "\n",
    "motif_positions_second = pd.DataFrame(index = data_second_copy.index,\n",
    "                                     columns = ['name', 'regex', 'average_start',\n",
    "                                                 'average_end', 'std_start', 'std_end'])\n",
    "\n",
    "for index, name, regex, fasta_name in zip(data_second_copy.index,\n",
    "                                      data_second_copy.name,\n",
    "                                      data_second_copy.motif_reg_expr,\n",
    "                                    data_second_copy.fasta):\n",
    "    \n",
    "    start_positions = np.array([])\n",
    "    end_positions = np.array([])\n",
    "    motif_name = name # initializing for each motif specific arrays\n",
    "    \n",
    "    with open('/home/emi/Desktop/sci/emil_work_march/host_and_phage_upstream_regions/' + fasta_name, 'r') as file:\n",
    "        sequence = file.read() #reading sequence\n",
    "        \n",
    "    sequences = [seq.split('\\n')[1] for seq in sequence[1:].split('>')]\n",
    "    for seq in sequences:\n",
    "        for match in re.compile(regex).finditer(seq): # finding matches in all sequences\n",
    "            start_positions = np.append(start_positions,\n",
    "                                        match.span()[0])\n",
    "            end_positions = np.append(end_positions,\n",
    "                                        match.span()[1])\n",
    "    \n",
    "    motif_positions_second.name[index] = name\n",
    "    motif_positions_second.regex[index] = regex\n",
    "    motif_positions_second.average_start[index] = start_positions.mean()\n",
    "    motif_positions_second.average_end[index] = end_positions.mean()\n",
    "    motif_positions_second.std_start[index] = start_positions.std()\n",
    "    motif_positions_second.std_end[index] = end_positions.std() # adding all the info"
   ]
  },
  {
   "cell_type": "markdown",
   "metadata": {},
   "source": [
    "Also, as you can see, I didn't find how to change a whole raw in one command - so I wrote changes for each position by hands. It would be cool if you tell me how to do this!"
   ]
  },
  {
   "cell_type": "code",
   "execution_count": 14,
   "metadata": {},
   "outputs": [],
   "source": [
    "# Just creating more tsv files\n",
    "\n",
    "# motif_positions_first.to_csv('motif_positions_first.tsv', sep='\\t')\n",
    "# motif_positions_second.to_csv('motif_positions_second.tsv', sep='\\t')"
   ]
  },
  {
   "cell_type": "markdown",
   "metadata": {},
   "source": [
    "# Section c)"
   ]
  },
  {
   "cell_type": "code",
   "execution_count": 79,
   "metadata": {},
   "outputs": [],
   "source": [
    "# for the first way\n",
    "\n",
    "location = []\n",
    "\n",
    "for index, regex, fasta_name in zip(data_first_copy.index,\n",
    "                                      data_first_copy.motif_reg_expr,\n",
    "                                    data_first_copy.fasta):\n",
    "    local = []\n",
    "    with open('/home/emi/Desktop/sci/emil_work_march/host_and_phage_upstream_regions/' + fasta_name, 'r') as file:\n",
    "        sequence = file.read() #reading sequence\n",
    "        \n",
    "    sequences = [(seq.split('\\n')[0], seq.split('\\n')[1]) for seq in sequence[1:].split('>')]\n",
    "    for name, seq in sequences:\n",
    "        if re.compile(regex).search(seq): # search matches in all sequences\n",
    "            local.append(name)\n",
    "    \n",
    "    local = set([x[:6] for x in local]) # I can check only 6 characters \n",
    "                                    #to check who the profile belongs to \n",
    "    \n",
    "    if (local): # I also check this because in some cases local is an empty set\n",
    "        if (local.__len__() > 1):\n",
    "            location.append('BOTH')\n",
    "            continue\n",
    "    \n",
    "        for z in local:\n",
    "            location.append('HOST' if (z == sequences[0][0][:6]) else 'PHAGE')\n",
    "    else:\n",
    "        location.append('NOT FOUND') # and for these cases I set this value NOT FOUND\n",
    "\n",
    "data_first_copy['location'] = location"
   ]
  },
  {
   "cell_type": "code",
   "execution_count": 78,
   "metadata": {},
   "outputs": [],
   "source": [
    "# second one, the same work\n",
    "\n",
    "location = []\n",
    "\n",
    "for index, regex, fasta_name in zip(data_second_copy.index,\n",
    "                                      data_second_copy.motif_reg_expr,\n",
    "                                    data_second_copy.fasta):\n",
    "    local = []\n",
    "    with open('/home/emi/Desktop/sci/emil_work_march/host_and_phage_upstream_regions/' + fasta_name, 'r') as file:\n",
    "        sequence = file.read() #reading sequence\n",
    "        \n",
    "    sequences = [(seq.split('\\n')[0], seq.split('\\n')[1]) for seq in sequence[1:].split('>')]\n",
    "    for name, seq in sequences:\n",
    "        if re.compile(regex).search(seq): # search matches in all sequences\n",
    "            local.append(name)\n",
    "    \n",
    "    local = set([x[:6] for x in local])\n",
    "    \n",
    "    if (local):\n",
    "        if (local.__len__() > 1):\n",
    "            location.append('BOTH')\n",
    "            continue\n",
    "    \n",
    "        for z in local:\n",
    "            location.append('HOST' if (z == sequences[0][0][:6]) else 'PHAGE')\n",
    "    else:\n",
    "        location.append('NOT FOUND')\n",
    "\n",
    "data_second_copy['location'] = location"
   ]
  },
  {
   "cell_type": "code",
   "execution_count": 77,
   "metadata": {},
   "outputs": [],
   "source": [
    "# whole tsv file\n",
    "\n",
    "location = []\n",
    "\n",
    "for index, regex, fasta_name in zip(data.index,\n",
    "                                      data.motif_reg_expr,\n",
    "                                    data.fasta):\n",
    "    local = []\n",
    "    with open('host_and_phage_upstream_regions/' + fasta_name, 'r') as file:\n",
    "        sequence = file.read() #reading sequence\n",
    "        \n",
    "    sequences = [(seq.split('\\n')[0], seq.split('\\n')[1]) for seq in sequence[1:].split('>')]\n",
    "    for name, seq in sequences:\n",
    "        if re.compile(regex).search(seq): # search matches in all sequences\n",
    "            local.append(name)\n",
    "    \n",
    "    local = set([x[:6] for x in local])\n",
    "    \n",
    "    if (local):\n",
    "        if (local.__len__() > 1):\n",
    "            location.append('BOTH')\n",
    "            continue\n",
    "    \n",
    "        for z in local:\n",
    "            location.append('HOST' if (z == sequences[0][0][:6]) else 'PHAGE')\n",
    "    else:\n",
    "        location.append('NOT FOUND')\n",
    "\n",
    "data['location'] = location"
   ]
  },
  {
   "cell_type": "code",
   "execution_count": 9,
   "metadata": {},
   "outputs": [],
   "source": [
    "# file with missing profiles\n",
    "\n",
    "# data.loc[\n",
    "#     data['location'] == 'NOT FOUND'\n",
    "# ].to_csv('/home/emi/Desktop/sci/emil_work_march/files_from_work/missing_profiles.tsv', sep='\\t')"
   ]
  },
  {
   "cell_type": "code",
   "execution_count": 80,
   "metadata": {},
   "outputs": [],
   "source": [
    "# data.to_csv('host_phage_results_total.tsv', sep='\\t')\n",
    "# data_first_copy.to_csv('host_phage_results_total_first.tsv', sep='\\t')\n",
    "# # motif_positions_second.to_csv('host_phage_results_total_second.tsv', sep='\\t')"
   ]
  },
  {
   "cell_type": "markdown",
   "metadata": {},
   "source": [
    "# Section d)"
   ]
  },
  {
   "cell_type": "code",
   "execution_count": 22,
   "metadata": {},
   "outputs": [],
   "source": [
    "import pandas as pd\n",
    "import numpy as np\n",
    "import compare_matrices as cm\n",
    "import os"
   ]
  },
  {
   "cell_type": "code",
   "execution_count": 67,
   "metadata": {},
   "outputs": [
    {
     "data": {
      "text/plain": [
       "<module 'compare_matrices' from '/home/emi/Desktop/sci/emil_work_march/phages-and-hosts/compare_matrices.py'>"
      ]
     },
     "execution_count": 67,
     "metadata": {},
     "output_type": "execute_result"
    }
   ],
   "source": [
    "import importlib\n",
    "importlib.reload(cm)"
   ]
  },
  {
   "cell_type": "markdown",
   "metadata": {},
   "source": [
    "## d.1)"
   ]
  },
  {
   "cell_type": "code",
   "execution_count": 68,
   "metadata": {},
   "outputs": [],
   "source": [
    "for root, dirs, files in os.walk('/home/emi/Desktop/sci/emil_work_march/host_phage_meme_results_total/'):\n",
    "    same_category = {}\n",
    "    for file in files:\n",
    "        if(file.split('.')[-1] + file.split('.')[-2] == 'tsvprobs'):\n",
    "            \n",
    "            if ('_'.join(file.split('_')[:4]) not in same_category):\n",
    "                same_category['_'.join(file.split('_')[:4])] = []\n",
    "            \n",
    "            same_category['_'.join(file.split('_')[:4])].append(file)\n",
    "            \n",
    "    for category in same_category:\n",
    "        data_ff = pd.DataFrame(index=same_category[category], columns=same_category[category])\n",
    "        for i in range(len(same_category[category])):\n",
    "            for j in range(i, len(same_category[category])):\n",
    "                \n",
    "                probs1 = np.array(pd.read_csv(root + same_category[category][i],\n",
    "                                     sep='\\t',\n",
    "                                     header=None))\n",
    "                probs2 = np.array(pd.read_csv(root + same_category[category][j],\n",
    "                                     sep='\\t',\n",
    "                                     header=None))\n",
    "                data_ff.loc[same_category[category][i], same_category[category][j]] = cm.calculate_corr_between_meme_matrices(probs1, probs2)\n",
    "                data_ff.loc[same_category[category][j], same_category[category][i]] = cm.calculate_corr_between_meme_matrices(probs2, probs1)\n",
    "        \n",
    "        with open('/home/emi/Desktop/sci/emil_work_march/files_from_work/correlation/' + category + '.tsv', 'w') as f:\n",
    "            data_ff.to_csv(f, sep='\\t')"
   ]
  },
  {
   "cell_type": "code",
   "execution_count": 8,
   "metadata": {},
   "outputs": [],
   "source": [
    "f1 = '/home/emi/Desktop/sci/emil_work_march/host_phage_meme_results_total/MEME_0_1115_motif_1.probs.tsv'\n",
    "f2 = '/home/emi/Desktop/sci/emil_work_march/host_phage_meme_results_total/MEME_0_1115_motif_2.probs.tsv'\n",
    "    \n",
    "table_1 = np.array(pd.read_csv(f1,\n",
    "                        sep = '\\t',\n",
    "                        header=None))\n",
    "table_2 = np.array(pd.read_csv(f2,\n",
    "                        sep = '\\t',\n",
    "                        header=None))"
   ]
  },
  {
   "cell_type": "code",
   "execution_count": 26,
   "metadata": {},
   "outputs": [
    {
     "data": {
      "text/plain": [
       "(0.47286232539086687, -30, 6, 36, 36)"
      ]
     },
     "execution_count": 26,
     "metadata": {},
     "output_type": "execute_result"
    }
   ],
   "source": [
    " cm.calculate_corr_between_meme_matrices(table_1, table_2)"
   ]
  },
  {
   "cell_type": "code",
   "execution_count": 42,
   "metadata": {},
   "outputs": [
    {
     "data": {
      "text/plain": [
       "array([[ 0.08479324,  0.19727261,  0.41404913,  0.51752015,  0.70586696,\n",
       "         0.63223065,  0.88628026,  0.96520607,  1.41991637,  1.51421384,\n",
       "         1.67594928,  1.72032955,  1.8044617 ,  1.99537097,  2.1087594 ,\n",
       "         2.21975122,  2.32677566,  2.45231278,  2.60818062,  2.72694109,\n",
       "         2.75818073,  3.00512283,  3.13545337,  3.48462675,  3.3895032 ,\n",
       "         3.45875961,  3.65049481,  3.49396589,  3.52619775,  3.36859513,\n",
       "         3.56082551,  3.33471022,  3.61950346,  3.39694169,  3.44537084,\n",
       "         3.34594981,  3.41322252,  3.24801594,  3.05892471,  3.0968592 ,\n",
       "         3.04437996,  3.05041286,  2.80479338,  2.70099164,  2.49669428,\n",
       "         2.36305859,  2.15809984,  2.1181819 ,  1.8493392 ,  1.82520666,\n",
       "         1.70338875,  1.55396731,  1.46719023,  1.42157082,  1.35471087,\n",
       "         1.13570304,  1.21785144,  0.85330647,  0.79950407,  0.57942188,\n",
       "         0.40099186,  0.38950411,  0.33677681,  0.31636358,  0.33851227,\n",
       "         0.37190054,  0.26231425,  0.36619832,  0.19595067,  0.15371914,\n",
       "         0.08702484],\n",
       "       [ 0.03768592,  0.12636371,  0.21694219,  0.32685958,  0.44669426,\n",
       "         0.53206621,  0.64421529,  0.80537195,  0.94603336,  1.03975197,\n",
       "         1.14371936,  1.29181831,  1.48727253,  1.45454558,  1.54826477,\n",
       "         1.54909123,  1.58958719,  1.73404994,  1.77024768,  1.92214834,\n",
       "         1.9208258 ,  2.16049569,  2.07041328,  2.10000023,  2.35743703,\n",
       "         2.46793323,  2.52809901,  2.77966919,  2.7238836 ,  2.99760284,\n",
       "         3.16123916,  3.44900793,  3.54413246,  3.87107423,  4.06933957,\n",
       "         3.83487759,  4.18330737,  4.09322464,  4.12405113,  3.8376875 ,\n",
       "         3.44810101,  3.38801798,  3.4876871 ,  3.38504238,  2.89041461,\n",
       "         2.76677804,  2.71239791,  2.51710873,  2.42215   ,  2.3933069 ,\n",
       "         2.31702548,  2.43297638,  2.33157169,  2.16057986,  1.91925719,\n",
       "         1.90297684,  1.76215077,  1.66297681,  1.46223248,  1.35438124,\n",
       "         1.43801755,  1.22487699,  1.24644722,  1.16677778,  1.12099273,\n",
       "         0.86297643,  0.72810007,  0.57909173,  0.39628196,  0.34586833,\n",
       "         0.13214905],\n",
       "       [ 0.23991724,  0.42991746,  0.60834735,  0.73809992,  0.86793461,\n",
       "         1.27628142,  1.46520683,  1.78405001,  1.8309097 ,  1.98479385,\n",
       "         2.34124009,  2.41239732,  2.74099231,  2.49611548,  2.7203309 ,\n",
       "         3.06495861,  3.14917392,  3.11983496,  3.24528938,  3.61909017,\n",
       "         3.67140461,  3.56586842,  4.01917486,  4.02677753,  4.45289287,\n",
       "         4.35859497,  4.08867802,  4.2760332 ,  4.26264468,  4.35809978,\n",
       "         4.07826466,  4.24809937,  4.20173534,  4.19314104,  4.32487625,\n",
       "         4.12132286,  4.24793453,  4.28652935,  4.07818215,  3.85702454,\n",
       "         3.94479347,  3.66818157,  3.40834795,  3.12603378,  3.14363716,\n",
       "         2.92983546,  2.80082707,  2.66462836,  2.60132299,  2.58545504,\n",
       "         2.47066168,  2.10727319,  1.96380279,  1.90446352,  1.82421544,\n",
       "         1.60024897,  1.39256321,  1.45090963,  1.23322353,  1.08272795,\n",
       "         0.94115731,  0.87049694,  0.7976873 ,  0.68958786,  0.66405056,\n",
       "         0.53181944,  0.52669513,  0.36033125,  0.25851318,  0.21247961,\n",
       "         0.09884314],\n",
       "       [ 0.31958656,  0.53438014,  0.90991753,  1.11190106,  1.46239672,\n",
       "         1.79272732,  1.88074406,  2.27264474,  2.42223223,  2.97636429,\n",
       "         3.05892654,  3.55892574,  3.47231439,  4.08677706,  4.25008351,\n",
       "         4.5272731 ,  4.83628074,  5.20718913,  5.61371861,  5.63760251,\n",
       "         6.15851095,  6.46454446,  6.90214729,  7.0886765 ,  7.12884207,\n",
       "         7.6550401 ,  8.2019811 ,  8.23826394,  8.78644555,  9.16908984,\n",
       "         9.76239624, 10.17661124, 10.37347075, 10.91107411, 11.31595092,\n",
       "        13.39570148, 11.31595092, 10.91107411, 10.37347075, 10.17661124,\n",
       "         9.76239624,  9.16908984,  8.78644555,  8.23826394,  8.2019811 ,\n",
       "         7.6550401 ,  7.12884207,  7.0886765 ,  6.90214729,  6.46454446,\n",
       "         6.15851095,  5.63760251,  5.61371861,  5.20718913,  4.83628074,\n",
       "         4.5272731 ,  4.25008351,  4.08677706,  3.47231439,  3.55892574,\n",
       "         3.05892654,  2.97636429,  2.42223223,  2.27264474,  1.88074406,\n",
       "         1.79272732,  1.46239672,  1.11190106,  0.90991753,  0.53438014,\n",
       "         0.31958656],\n",
       "       [ 0.09884314,  0.21247961,  0.25851318,  0.36033125,  0.52669513,\n",
       "         0.53181944,  0.66405056,  0.68958786,  0.7976873 ,  0.87049694,\n",
       "         0.94115731,  1.08272795,  1.23322353,  1.45090963,  1.39256321,\n",
       "         1.60024897,  1.82421544,  1.90446352,  1.96380279,  2.10727319,\n",
       "         2.47066168,  2.58545504,  2.60132299,  2.66462836,  2.80082707,\n",
       "         2.92983546,  3.14363716,  3.12603378,  3.40834795,  3.66818157,\n",
       "         3.94479347,  3.85702454,  4.07818215,  4.28652935,  4.24793453,\n",
       "         4.12132286,  4.32487625,  4.19314104,  4.20173534,  4.24809937,\n",
       "         4.07826466,  4.35809978,  4.26264468,  4.2760332 ,  4.08867802,\n",
       "         4.35859497,  4.45289287,  4.02677753,  4.01917486,  3.56586842,\n",
       "         3.67140461,  3.61909017,  3.24528938,  3.11983496,  3.14917392,\n",
       "         3.06495861,  2.7203309 ,  2.49611548,  2.74099231,  2.41239732,\n",
       "         2.34124009,  1.98479385,  1.8309097 ,  1.78405001,  1.46520683,\n",
       "         1.27628142,  0.86793461,  0.73809992,  0.60834735,  0.42991746,\n",
       "         0.23991724],\n",
       "       [ 0.13214905,  0.34586833,  0.39628196,  0.57909173,  0.72810007,\n",
       "         0.86297643,  1.12099273,  1.16677778,  1.24644722,  1.22487699,\n",
       "         1.43801755,  1.35438124,  1.46223248,  1.66297681,  1.76215077,\n",
       "         1.90297684,  1.91925719,  2.16057986,  2.33157169,  2.43297638,\n",
       "         2.31702548,  2.3933069 ,  2.42215   ,  2.51710873,  2.71239791,\n",
       "         2.76677804,  2.89041461,  3.38504238,  3.4876871 ,  3.38801798,\n",
       "         3.44810101,  3.8376875 ,  4.12405113,  4.09322464,  4.18330737,\n",
       "         3.83487759,  4.06933957,  3.87107423,  3.54413246,  3.44900793,\n",
       "         3.16123916,  2.99760284,  2.7238836 ,  2.77966919,  2.52809901,\n",
       "         2.46793323,  2.35743703,  2.10000023,  2.07041328,  2.16049569,\n",
       "         1.9208258 ,  1.92214834,  1.77024768,  1.73404994,  1.58958719,\n",
       "         1.54909123,  1.54826477,  1.45454558,  1.48727253,  1.29181831,\n",
       "         1.14371936,  1.03975197,  0.94603336,  0.80537195,  0.64421529,\n",
       "         0.53206621,  0.44669426,  0.32685958,  0.21694219,  0.12636371,\n",
       "         0.03768592],\n",
       "       [ 0.08702484,  0.15371914,  0.19595067,  0.36619832,  0.26231425,\n",
       "         0.37190054,  0.33851227,  0.31636358,  0.33677681,  0.38950411,\n",
       "         0.40099186,  0.57942188,  0.79950407,  0.85330647,  1.21785144,\n",
       "         1.13570304,  1.35471087,  1.42157082,  1.46719023,  1.55396731,\n",
       "         1.70338875,  1.82520666,  1.8493392 ,  2.1181819 ,  2.15809984,\n",
       "         2.36305859,  2.49669428,  2.70099164,  2.80479338,  3.05041286,\n",
       "         3.04437996,  3.0968592 ,  3.05892471,  3.24801594,  3.41322252,\n",
       "         3.34594981,  3.44537084,  3.39694169,  3.61950346,  3.33471022,\n",
       "         3.56082551,  3.36859513,  3.52619775,  3.49396589,  3.65049481,\n",
       "         3.45875961,  3.3895032 ,  3.48462675,  3.13545337,  3.00512283,\n",
       "         2.75818073,  2.72694109,  2.60818062,  2.45231278,  2.32677566,\n",
       "         2.21975122,  2.1087594 ,  1.99537097,  1.8044617 ,  1.72032955,\n",
       "         1.67594928,  1.51421384,  1.41991637,  0.96520607,  0.88628026,\n",
       "         0.63223065,  0.70586696,  0.51752015,  0.41404913,  0.19727261,\n",
       "         0.08479324]])"
      ]
     },
     "execution_count": 42,
     "metadata": {},
     "output_type": "execute_result"
    }
   ],
   "source": [
    "from scipy.signal import correlate2d\n",
    "\n",
    "correlate2d(table_1, table_1)  "
   ]
  },
  {
   "cell_type": "code",
   "execution_count": null,
   "metadata": {},
   "outputs": [],
   "source": []
  }
 ],
 "metadata": {
  "kernelspec": {
   "display_name": "Python 3",
   "language": "python",
   "name": "python3"
  },
  "language_info": {
   "codemirror_mode": {
    "name": "ipython",
    "version": 3
   },
   "file_extension": ".py",
   "mimetype": "text/x-python",
   "name": "python",
   "nbconvert_exporter": "python",
   "pygments_lexer": "ipython3",
   "version": "3.8.5"
  }
 },
 "nbformat": 4,
 "nbformat_minor": 4
}
