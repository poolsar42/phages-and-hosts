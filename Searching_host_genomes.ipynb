{
 "cells": [
  {
   "cell_type": "code",
   "execution_count": 3,
   "metadata": {},
   "outputs": [],
   "source": [
    "import subprocess, os, csv, pandas as pd\n",
    "import wget, urllib\n",
    "from Bio.SeqIO.FastaIO import SimpleFastaParser\n",
    "from Bio.Seq import Seq\n",
    "from Bio import SeqIO\n",
    "from Bio import Entrez\n",
    "import Bio\n",
    "from Bio import UniGene\n",
    "\n",
    "from Bio.Alphabet import generic_dna"
   ]
  },
  {
   "cell_type": "markdown",
   "metadata": {},
   "source": [
    "$\\text{Searching bacteriophages in virus list and hosts Tax_ID list}$"
   ]
  },
  {
   "cell_type": "code",
   "execution_count": 4,
   "metadata": {
    "scrolled": true
   },
   "outputs": [],
   "source": [
    "# Here I'm searching bacteriophages in the table (from Virus-Host DB FTP) and saving  result in list\n",
    "# Also I saving host names in anpther list\n",
    "virus_host_info = []\n",
    "host_name = []\n",
    "host_id = []\n",
    "with open(\"/home/emil/Desktop/Science/data/virushostdb/virushostdb.tsv\") as tsvfile:\n",
    "    tsvreader = csv.reader(tsvfile, delimiter=\"\\t\",)\n",
    "    for line in tsvreader:\n",
    "        if ('Bacteria' in line[9]):\n",
    "            virus_host_info.append(line)\n",
    "            host_name.append(line[8])\n",
    "            host_id.append(line[7])\n",
    "        if (line[9] == 'host lineage'):\n",
    "            virus_host_info.append(line)"
   ]
  },
  {
   "cell_type": "markdown",
   "metadata": {},
   "source": [
    "$\\text{Searching hosts genome}$"
   ]
  },
  {
   "cell_type": "code",
   "execution_count": 6,
   "metadata": {},
   "outputs": [],
   "source": [
    "data = pd.read_csv('/home/emil/Desktop/Science/data/virushostdb/assembly_summary_genbank.txt', sep=\"\\n\", header=None) #parsing\n",
    "Assembly_summary_genbank = []\n",
    "taxid = [] \n",
    "non_complete_genome_id = [] #Here IDs of organisms without full genome\n",
    "link_to_sequence = [] #Here link to dowload data in FTP\n",
    "for i in range(1,len(data[0])):\n",
    "    s = data[0][i].split('\\t')\n",
    "    taxid.append(s[5])\n",
    "    Assembly_summary_genbank.append(s)\n",
    "for ID in host_id:\n",
    "    if ID in taxid:\n",
    "        index = taxid.index(ID)\n",
    "        virus_index = host_id.index(ID) + 1\n",
    "        if (Assembly_summary_genbank[index][13] == 'Full' or Assembly_summary_genbank[index][11] == 'Chromosome'):\n",
    "            link_to_sequence.append(Assembly_summary_genbank[index][19])\n",
    "        else:\n",
    "            non_complete_genome_id.append(ID)\n",
    "    else:\n",
    "        non_complete_genome_id.append(ID)"
   ]
  },
  {
   "cell_type": "markdown",
   "metadata": {},
   "source": [
    "$\\text{Downloading Data}$"
   ]
  },
  {
   "cell_type": "code",
   "execution_count": null,
   "metadata": {
    "scrolled": true
   },
   "outputs": [],
   "source": [
    "unique_link = set(link_to_sequence)\n",
    "unique_link = list(unique_link)\n",
    "for i in range (len(link_to_sequence)):\n",
    "    string = unique_link[i].split('/')\n",
    "    link = unique_link[i] + '/' + string[len(string) - 1] + '_genomic.fna.gz'\n",
    "    os.system('wget -r %s' %link)"
   ]
  }
 ],
 "metadata": {
  "kernelspec": {
   "display_name": "Python 3",
   "language": "python",
   "name": "python3"
  },
  "language_info": {
   "codemirror_mode": {
    "name": "ipython",
    "version": 3
   },
   "file_extension": ".py",
   "mimetype": "text/x-python",
   "name": "python",
   "nbconvert_exporter": "python",
   "pygments_lexer": "ipython3",
   "version": "3.7.4"
  }
 },
 "nbformat": 4,
 "nbformat_minor": 2
}
